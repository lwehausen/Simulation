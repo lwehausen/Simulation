{
  "nbformat": 4,
  "nbformat_minor": 0,
  "metadata": {
    "colab": {
      "provenance": [],
      "authorship_tag": "ABX9TyPGtrKi2avUvsXikkeN85Ot",
      "include_colab_link": true
    },
    "kernelspec": {
      "name": "python3",
      "display_name": "Python 3"
    },
    "language_info": {
      "name": "python"
    }
  },
  "cells": [
    {
      "cell_type": "markdown",
      "metadata": {
        "id": "view-in-github",
        "colab_type": "text"
      },
      "source": [
        "<a href=\"https://colab.research.google.com/github/lwehausen/Simulation/blob/main/Basic_Math_Solved_with_Loops.ipynb\" target=\"_parent\"><img src=\"https://colab.research.google.com/assets/colab-badge.svg\" alt=\"Open In Colab\"/></a>"
      ]
    },
    {
      "cell_type": "markdown",
      "source": [
        "#Examples of For Loops and While Loops"
      ],
      "metadata": {
        "id": "_lpfYhLXS62B"
      }
    },
    {
      "cell_type": "code",
      "execution_count": null,
      "metadata": {
        "id": "4sSCTudcLNKo"
      },
      "outputs": [],
      "source": [
        "#To run R in Google Colab:\n",
        "%load_ext rpy2.ipython"
      ]
    },
    {
      "cell_type": "markdown",
      "source": [
        "Let $h(x, n) = 1 + x + x^2 + · · · + x^n = \\sum_{i=0}^n x_i$. Write an R program to calculate $h(x,n)$ using a for loop."
      ],
      "metadata": {
        "id": "xkpK3V8rSQjB"
      }
    },
    {
      "cell_type": "code",
      "source": [
        "%%R\n",
        "\n",
        "x <- 0.5\n",
        "n = 5\n",
        "sum_x <- 0\n",
        "  for (i in 0:n){\n",
        "  sum_x <- sum_x + x^i\n",
        "}\n",
        "sum_x"
      ],
      "metadata": {
        "colab": {
          "base_uri": "https://localhost:8080/"
        },
        "id": "UjlIVcbDPOnn",
        "outputId": "306b0912-539d-41ac-c32a-62b158e369f7"
      },
      "execution_count": null,
      "outputs": [
        {
          "output_type": "stream",
          "name": "stdout",
          "text": [
            "[1] 1.96875\n"
          ]
        }
      ]
    },
    {
      "cell_type": "markdown",
      "source": [
        "First write a program that achieves the same result as in the previous exercise but using a while loop. Then write a program that does this using vector operations (and no loops). If it doesn’t already, make sure your program works for the case $x = 1$."
      ],
      "metadata": {
        "id": "fK4lxtoGS_M7"
      }
    },
    {
      "cell_type": "code",
      "source": [
        "%%R\n",
        "\n",
        "#while loop\n",
        "x <- 0.5\n",
        "n = 5\n",
        "i = 0\n",
        "sum_x <- 0\n",
        "  while (i <= n){\n",
        "  sum_x <- sum_x + x^i\n",
        "  i = i + 1\n",
        "}\n",
        "sum_x"
      ],
      "metadata": {
        "colab": {
          "base_uri": "https://localhost:8080/"
        },
        "id": "u2rJW6dKTGuZ",
        "outputId": "696dec3e-ba70-4c6a-9a6d-b2cf1f51dd03"
      },
      "execution_count": 7,
      "outputs": [
        {
          "output_type": "stream",
          "name": "stdout",
          "text": [
            "[1] 1.96875\n"
          ]
        }
      ]
    },
    {
      "cell_type": "code",
      "source": [
        "%%R\n",
        "#vector operations\n",
        "sum_vec <- function(x,n){\n",
        "  values <- x^(0:n)\n",
        "  sum(values)\n",
        "}\n",
        "sum_vec(0.5,5)"
      ],
      "metadata": {
        "colab": {
          "base_uri": "https://localhost:8080/"
        },
        "id": "_hJye3f8TNS9",
        "outputId": "cee62e13-3a8e-4aac-9ed6-c71801ee03e3"
      },
      "execution_count": 5,
      "outputs": [
        {
          "output_type": "stream",
          "name": "stdout",
          "text": [
            "[1] 1.96875\n"
          ]
        }
      ]
    },
    {
      "cell_type": "code",
      "source": [
        "%%R\n",
        "\n",
        "#check program works for case x = 1\n",
        "sum_vec(0.5,1)"
      ],
      "metadata": {
        "colab": {
          "base_uri": "https://localhost:8080/"
        },
        "id": "Wrzg5lzUTUAZ",
        "outputId": "e22e04bd-c894-44f4-defe-b247a9bb2f9f"
      },
      "execution_count": 6,
      "outputs": [
        {
          "output_type": "stream",
          "name": "stdout",
          "text": [
            "[1] 1.5\n"
          ]
        }
      ]
    },
    {
      "cell_type": "markdown",
      "source": [
        "Given a vector $x$, calculate its geometric mean using both a for loop and vector operations."
      ],
      "metadata": {
        "id": "HynTvVu9TdZL"
      }
    },
    {
      "cell_type": "code",
      "source": [
        "%%R\n",
        "#for loop\n",
        "x <- c(1,3,5,7)\n",
        "n = length(x)\n",
        "prod_x <- 1\n",
        "for (i in 1:n){\n",
        "  prod_x <- prod_x*x[i]^(1/n)\n",
        "}\n",
        "prod_x"
      ],
      "metadata": {
        "colab": {
          "base_uri": "https://localhost:8080/"
        },
        "id": "0V03HXLrTc0e",
        "outputId": "dc6e3d88-b03a-4f2a-efa4-e4d653152b08"
      },
      "execution_count": 9,
      "outputs": [
        {
          "output_type": "stream",
          "name": "stdout",
          "text": [
            "[1] 3.201086\n"
          ]
        }
      ]
    },
    {
      "cell_type": "code",
      "source": [
        "%%R\n",
        "#vector operations\n",
        "prod_vec <- function(x,n){\n",
        "  n = length(x)\n",
        "  values <- x^(1/n)\n",
        "  prod(values)\n",
        "}\n",
        "prod_vec(c(1,3,5,7))"
      ],
      "metadata": {
        "colab": {
          "base_uri": "https://localhost:8080/"
        },
        "id": "-0soqzgDTm39",
        "outputId": "1d446872-93bf-4649-d417-4ab7e4f1e862"
      },
      "execution_count": 11,
      "outputs": [
        {
          "output_type": "stream",
          "name": "stdout",
          "text": [
            "[1] 3.201086\n"
          ]
        }
      ]
    },
    {
      "cell_type": "code",
      "source": [
        "%%R\n",
        "#harmonic mean\n",
        "x <- c(1,3,5,7)\n",
        "n = length(x)\n",
        "harm_x <- 0\n",
        "for (i in x){\n",
        "  harm_x <- harm_x + i^(-1)\n",
        "}\n",
        "harm_x <- n*harm_x^(-1)\n",
        "harm_x"
      ],
      "metadata": {
        "colab": {
          "base_uri": "https://localhost:8080/"
        },
        "id": "8MX49JpUT5yG",
        "outputId": "e5617b7d-2d43-4cf3-8a3b-4fd21acbfc0b"
      },
      "execution_count": 12,
      "outputs": [
        {
          "output_type": "stream",
          "name": "stdout",
          "text": [
            "[1] 2.386364\n"
          ]
        }
      ]
    },
    {
      "cell_type": "markdown",
      "source": [
        "The game of craps is played as follows. First, you roll two six-sided dice; let $x$ be the sum of the dice on the first roll. If $x = 7$ or $11$ you win, otherwise you keep rolling until either you get $x$ again, in which case you also win, or until you get a $7$ or $11$, in which case you lose. Write a program to simulate a game of craps. You can use the following snippet of code to simulate the roll of two (fair) dice:\n",
        "$x <- \\text{sum}(\\text{ceiling}(6*\\text{runif(2)}))$"
      ],
      "metadata": {
        "id": "4jnE0QT7T-E2"
      }
    },
    {
      "cell_type": "code",
      "source": [
        "%%R\n",
        "\n",
        "craps <- function(){\n",
        "x <- sum(ceiling(6*runif(2)))\n",
        "if (x == 7 | x == 11){\n",
        "  print(x)\n",
        "  print(\"Winner!\")\n",
        "} else {\n",
        "  print(paste0(\"x = \", x))\n",
        "}\n",
        "  y = 0\n",
        "  while(y != 7 & y != 11 & y != x){\n",
        "    y <- sum(ceiling(6*runif(2)))\n",
        "    print(paste0(\"y = \", y))\n",
        "  }\n",
        "  if (y == 7 | y == 11){\n",
        "    print(\"Loser!\")\n",
        "  } else{\n",
        "    print(\"Winner!\")\n",
        "  }\n",
        "\n",
        "}\n",
        "craps()"
      ],
      "metadata": {
        "colab": {
          "base_uri": "https://localhost:8080/"
        },
        "id": "Io9OoVHSUGdm",
        "outputId": "f95191d8-c524-4072-85b9-d505150b69ea"
      },
      "execution_count": 13,
      "outputs": [
        {
          "output_type": "stream",
          "name": "stdout",
          "text": [
            "[1] \"x = 10\"\n",
            "[1] \"y = 4\"\n",
            "[1] \"y = 7\"\n",
            "[1] \"Loser!\"\n"
          ]
        }
      ]
    },
    {
      "cell_type": "markdown",
      "source": [
        "Suppose that $(x(t), y(t))$ has polar coordinates $(\\sqrt{t}, 2πt)$. Plot $(x(t), y(t))$ for $t \\in [0, 10]$."
      ],
      "metadata": {
        "id": "X6r-XHeXUcrQ"
      }
    },
    {
      "cell_type": "code",
      "source": [
        "%%R\n",
        "#define t\n",
        "t <- seq(0,10, length = 10000)\n",
        "#convert polar coordinates to cartesian\n",
        "x <- sqrt(t)*cos(2*pi*t)\n",
        "y <- sqrt(t)*sin(2*pi*t)\n",
        "\n",
        "plot(x,y, \"lines\", asp = 1)"
      ],
      "metadata": {
        "colab": {
          "base_uri": "https://localhost:8080/",
          "height": 497
        },
        "id": "zi4Z0qK0Ujbi",
        "outputId": "4f05e035-84b6-44b9-99e6-a5bac605f1df"
      },
      "execution_count": 14,
      "outputs": [
        {
          "output_type": "display_data",
          "data": {
            "image/png": "[encoded data removed]"
          },
          "metadata": {}
        }
      ]
    }
  ]
}