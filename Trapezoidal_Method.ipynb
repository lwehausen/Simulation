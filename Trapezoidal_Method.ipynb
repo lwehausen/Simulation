{
  "nbformat": 4,
  "nbformat_minor": 0,
  "metadata": {
    "colab": {
      "provenance": [],
      "authorship_tag": "ABX9TyOWkbI1+ypMcXJZ4Jl02r4i",
      "include_colab_link": true
    },
    "kernelspec": {
      "name": "python3",
      "display_name": "Python 3"
    },
    "language_info": {
      "name": "python"
    }
  },
  "cells": [
    {
      "cell_type": "markdown",
      "metadata": {
        "id": "view-in-github",
        "colab_type": "text"
      },
      "source": [
        "<a href=\"https://colab.research.google.com/github/lwehausen/Simulation/blob/main/Trapezoidal_Method.ipynb\" target=\"_parent\"><img src=\"https://colab.research.google.com/assets/colab-badge.svg\" alt=\"Open In Colab\"/></a>"
      ]
    },
    {
      "cell_type": "code",
      "source": [
        "#To run R in Google Colab:\n",
        "%load_ext rpy2.ipython"
      ],
      "metadata": {
        "id": "tFtvl8T4LeAs"
      },
      "execution_count": 1,
      "outputs": []
    },
    {
      "cell_type": "code",
      "source": [
        "%%R\n",
        "library(ggplot2)\n",
        "library(dplyr)"
      ],
      "metadata": {
        "id": "CKGrKEGfLuIP"
      },
      "execution_count": null,
      "outputs": []
    },
    {
      "cell_type": "markdown",
      "source": [
        "#Trapezoidal Method for Integration"
      ],
      "metadata": {
        "id": "gSIn7k5TO7J0"
      }
    },
    {
      "cell_type": "markdown",
      "source": [
        "1. Consider the following integral: $\\int_{-1}^{1} x^2dx$"
      ],
      "metadata": {
        "id": "IJ_xnFuXLUEa"
      }
    },
    {
      "cell_type": "markdown",
      "source": [
        "$(a)$. Find the true value of the integral."
      ],
      "metadata": {
        "id": "Cy5S4rn7L4ps"
      }
    },
    {
      "cell_type": "code",
      "source": [
        "%%R\n",
        "#do some calcoolus to find anti-derivative of function and then area under the curve:\n",
        "f2 <- function(x) {x^3/3}\n",
        "AUC = f2(1) - f2(-1)\n",
        "AUC"
      ],
      "metadata": {
        "colab": {
          "base_uri": "https://localhost:8080/"
        },
        "id": "TwGfrzKmLTrc",
        "outputId": "26fc2c27-f590-4286-d527-3ca6c915ce63"
      },
      "execution_count": 3,
      "outputs": [
        {
          "output_type": "stream",
          "name": "stdout",
          "text": [
            "[1] 0.6666667\n"
          ]
        }
      ]
    },
    {
      "cell_type": "markdown",
      "source": [
        "$(b)$. Evaluate the integral using the trapezoidal method using $n=5$ trapezoids."
      ],
      "metadata": {
        "id": "0Qi37X7OLMfR"
      }
    },
    {
      "cell_type": "code",
      "source": [
        "%%R\n",
        "trapezoid <- function(ftn, a, b, n = 5) {\n",
        "  h <- (b-a)/n\n",
        "  x.vec <- seq(a,b, by=h)\n",
        "  f.vec <- sapply(x.vec,ftn)\n",
        "  T <- h*(f.vec[1]/2 + sum(f.vec[2:n]) + f.vec[n+1]/2)\n",
        "  return(T)\n",
        "}\n",
        "\n",
        "ftnb <- function(x) return(x^2)\n",
        "trapezoid(ftnb, -1, 1, n=5)"
      ],
      "metadata": {
        "colab": {
          "base_uri": "https://localhost:8080/"
        },
        "id": "kVRjrEZ7LMHk",
        "outputId": "c7b74e6b-a6fe-49da-b6fb-e585f646d836"
      },
      "execution_count": 4,
      "outputs": [
        {
          "output_type": "stream",
          "name": "stdout",
          "text": [
            "[1] 0.72\n"
          ]
        }
      ]
    },
    {
      "cell_type": "markdown",
      "source": [
        "$(c)$. For each value of $n = 5,6,...,50$, evaluate the integral using $n$ trapezoids. For each value of $n$ calculate the absolute difference\n",
        "between the true value and the approximated value. Plot the value of $n$ versus this error using an appropriate data visualization."
      ],
      "metadata": {
        "id": "6_gCUkLRLC49"
      }
    },
    {
      "cell_type": "code",
      "execution_count": 5,
      "metadata": {
        "colab": {
          "base_uri": "https://localhost:8080/",
          "height": 497
        },
        "id": "ETuDviN2K5IN",
        "outputId": "6ce5da67-f4d8-426c-afd0-bb5a3f60d775"
      },
      "outputs": [
        {
          "output_type": "display_data",
          "data": {
            "image/png": "[encoded data removed]"
          },
          "metadata": {}
        }
      ],
      "source": [
        "%%R\n",
        "a = -1\n",
        "b = 1\n",
        "n_values <- 5:50\n",
        "integrals <- sapply(n_values, function(n) trapezoid(ftnb,a,b,n))\n",
        "results <- data.frame(n = n_values, approximated_value = integrals)\n",
        "#print(results)\n",
        "\n",
        "tru_integrals <- replicate(length(n_values), AUC)\n",
        "results2 <- data.frame(n = n_values, true_value = tru_integrals)\n",
        "#print(results2)\n",
        "\n",
        "merge <- merge(results, results2, by = \"n\")\n",
        "merge$difference <- abs(merge$true_value - merge$approximated_value)\n",
        "#merge\n",
        "\n",
        "cplot <- ggplot(merge, aes(x=n, y=difference)) + geom_point() + labs(x =\"Number of Trapezoids (n)\", y=\"Error\", title = \"Trapezoidal Method Approximations vs True Integral Values of y = x^2 for n = 5:50\", axis.title = element_text(size = 5)) + theme_light() + theme(plot.title = element_text(size = 12))\n",
        "cplot"
      ]
    }
  ]
}