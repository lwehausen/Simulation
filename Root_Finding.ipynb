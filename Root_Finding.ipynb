{
  "nbformat": 4,
  "nbformat_minor": 0,
  "metadata": {
    "colab": {
      "provenance": [],
      "authorship_tag": "ABX9TyOdrt5HHh4LbaSkShPt/6vp",
      "include_colab_link": true
    },
    "kernelspec": {
      "name": "python3",
      "display_name": "Python 3"
    },
    "language_info": {
      "name": "python"
    }
  },
  "cells": [
    {
      "cell_type": "markdown",
      "metadata": {
        "id": "view-in-github",
        "colab_type": "text"
      },
      "source": [
        "<a href=\"https://colab.research.google.com/github/lwehausen/Simulation/blob/main/Root_Finding.ipynb\" target=\"_parent\"><img src=\"https://colab.research.google.com/assets/colab-badge.svg\" alt=\"Open In Colab\"/></a>"
      ]
    },
    {
      "cell_type": "code",
      "execution_count": 1,
      "metadata": {
        "id": "1GXzmI7UkfEy"
      },
      "outputs": [],
      "source": [
        "#To run R in Google Colab:\n",
        "%load_ext rpy2.ipython"
      ]
    },
    {
      "cell_type": "markdown",
      "source": [
        "#Root Finding"
      ],
      "metadata": {
        "id": "Yk6z-qk8t9rR"
      }
    },
    {
      "cell_type": "code",
      "source": [
        "%%R\n",
        "install.packages(\"spuRs\", repos =  \"http://cran.us.r-project.org\")\n",
        "install.packages(\"mvtnorm\", repos =  \"http://cran.us.r-project.org\")"
      ],
      "metadata": {
        "id": "nPkPasQSt5Pc"
      },
      "execution_count": null,
      "outputs": []
    },
    {
      "cell_type": "code",
      "source": [
        "%%R\n",
        "library(ggplot2)\n",
        "library(dplyr)\n",
        "library(mvtnorm)"
      ],
      "metadata": {
        "id": "Xb6KSdUNuFeN"
      },
      "execution_count": null,
      "outputs": []
    },
    {
      "cell_type": "markdown",
      "source": [
        "1. Write your own code to implement the secant method for root finding, and then use this find all of the roots of the following functions:"
      ],
      "metadata": {
        "id": "YadRvk4wsGTt"
      }
    },
    {
      "cell_type": "markdown",
      "source": [
        "$(a)$. $f(x) = e^{−x^3} − \\frac{1}{2}$"
      ],
      "metadata": {
        "id": "PHa_uvYnsNnp"
      }
    },
    {
      "cell_type": "code",
      "source": [
        "%%R\n",
        "f <- function(x) {\n",
        "  exp((-x)^3) - (1/2)\n",
        "}\n",
        "\n",
        "#plot the function to see where it crosses the x-axis so I don't have to repeatedly test different intervals; \"curve\" is for plotting functions, found on stackexchange\n",
        "curve(f, col = \"red\", xlim=c(-5,5), ylim=c(-5,5), ylab=\"f(x)\")\n",
        "abline(h=0)\n",
        "abline(v=0) #appears that root is somewhere in [0,2]\n",
        "\n",
        "#write function for secant method\n",
        "secant <- function(f, x0, x1, eps = 1e-10, n = 1000) {\n",
        "  for (i in 1:n) {\n",
        "    x2 <- x1 - f(x1) *  ((x1-x0)/(f(x1)-f(x0)))\n",
        "    if (abs(x2-x1) < eps) {\n",
        "      return(x2)\n",
        "    }\n",
        "    x0 <- x1\n",
        "    x1 <- x2\n",
        "    }\n",
        "}\n",
        "secant(f,0,2)"
      ],
      "metadata": {
        "colab": {
          "base_uri": "https://localhost:8080/",
          "height": 515
        },
        "id": "mEy-g036sbHt",
        "outputId": "10b2cb63-6664-45d7-eccc-803263b5a422"
      },
      "execution_count": 26,
      "outputs": [
        {
          "output_type": "stream",
          "name": "stdout",
          "text": [
            "[1] 0.884997\n"
          ]
        },
        {
          "output_type": "display_data",
          "data": {
            "image/png": "[encoded data removed]"
          },
          "metadata": {}
        }
      ]
    },
    {
      "cell_type": "code",
      "source": [
        "%%R\n",
        "secant2 <- function(f, x0, x1, eps = 1e-10, n = 1000) {\n",
        "  for (i in 1:n) {\n",
        "    x2 <- x1 - f(x1) *  ((x1-x0)/(f(x1)-f(x0)))\n",
        "    if (abs(x2-x1) < eps) {\n",
        "      return(x2)\n",
        "    }\n",
        "    x0 <- x1\n",
        "    x1 <- x2\n",
        "    }\n",
        "}\n",
        "secant2(f,0,2)"
      ],
      "metadata": {
        "colab": {
          "base_uri": "https://localhost:8080/"
        },
        "id": "dsAdhJDFslSH",
        "outputId": "82ecb484-6a00-4e5a-cfe7-088b6a4dba3e"
      },
      "execution_count": 27,
      "outputs": [
        {
          "output_type": "stream",
          "name": "stdout",
          "text": [
            "[1] 0.884997\n"
          ]
        }
      ]
    },
    {
      "cell_type": "markdown",
      "source": [
        "The root is at $x = 0.884997$."
      ],
      "metadata": {
        "id": "7dTWNm8fsghk"
      }
    },
    {
      "cell_type": "markdown",
      "source": [
        "$(b)$. $f(x) = x^{−1/2} \\cdot |\\sin (x)| − \\frac{1}{2}$"
      ],
      "metadata": {
        "id": "o_5GljwRsiAm"
      }
    },
    {
      "cell_type": "code",
      "source": [
        "%%R\n",
        "g <- function(x) {\n",
        "  x^(-1/2) * abs(sin(x)) - (1/2)\n",
        "}\n",
        "\n",
        "#create function plot\n",
        "curve(g, col = \"red\", xlim=c(-1,5), ylim=c(-5,5), ylab=\"g(x)\")\n",
        "abline(h=0)\n",
        "abline(v=0)\n",
        "\n",
        "#this function does not actually equal 0, so I must find the leftmost x-value of this function, which happens to be a local minimum, as seen on the graph. I can find this minimum value\n",
        "mymin = optimize(g, interval = c(0,1))\n",
        "x_min = mymin$min\n",
        "y_min = mymin$minval\n",
        "#we only care about the x-value to use as the starting point of our interval\n",
        "#x_min = 6.610696e-05 is the leftmost x-value"
      ],
      "metadata": {
        "colab": {
          "base_uri": "https://localhost:8080/",
          "height": 515
        },
        "id": "rS2WqREDs4ns",
        "outputId": "d754a72d-1511-437c-f326-36703b4c9260"
      },
      "execution_count": 28,
      "outputs": [
        {
          "output_type": "stream",
          "name": "stdout",
          "text": [
            "[1] 2.284761\n"
          ]
        },
        {
          "output_type": "display_data",
          "data": {
            "image/png": "[encoded data removed]"
          },
          "metadata": {}
        }
      ]
    },
    {
      "cell_type": "code",
      "source": [
        "%%R\n",
        "secant(g,6.610696e-05,0.5)"
      ],
      "metadata": {
        "colab": {
          "base_uri": "https://localhost:8080/"
        },
        "id": "1M5WJ7r0tQUH",
        "outputId": "3a4660d5-0e23-4cb0-f56d-a023e4b9d0e5"
      },
      "execution_count": 30,
      "outputs": [
        {
          "output_type": "stream",
          "name": "stdout",
          "text": [
            "[1] 0.2555123\n"
          ]
        }
      ]
    },
    {
      "cell_type": "code",
      "source": [
        "%%R\n",
        "#from the graph we know there is one more root to find\n",
        "secant(g,2,2.5)"
      ],
      "metadata": {
        "colab": {
          "base_uri": "https://localhost:8080/"
        },
        "id": "v5ysJ4-XtMuc",
        "outputId": "fdf9bf4b-cb18-4471-f0c3-09d2941411fb"
      },
      "execution_count": 31,
      "outputs": [
        {
          "output_type": "stream",
          "name": "stdout",
          "text": [
            "[1] 2.284761\n"
          ]
        }
      ]
    },
    {
      "cell_type": "markdown",
      "source": [
        "The first root is at $x = 0.2555123$ and the second root is at $x = 2.284761$."
      ],
      "metadata": {
        "id": "DVFjrn-hs-JY"
      }
    },
    {
      "cell_type": "markdown",
      "source": [
        "2. Write a function of $b$ to evaluate the following integral: \\\\\n",
        "$\\int_{0}^{2\\pi} \\sin(\\frac{x}{b}) dx$. \\\\\n",
        "Then take this function, $f(b)$ and find the value of $b$ that makes $f(b)= 1$ using a root finding algorithm."
      ],
      "metadata": {
        "id": "nVD5FdVGtbrv"
      }
    },
    {
      "cell_type": "code",
      "source": [
        "%%R\n",
        "#function to evaluate integral; took anti-derivative calculus way; anti-derivative = -b*cos(x/b)\n",
        "#plug in 2*pi and 0 for x and obtain a function of b only\n",
        "antifunc5 <- function(b) {b-b*cos((2*pi)/b)}\n",
        "\n",
        "a2 <- function(b) {\n",
        "  b-b*cos((2*pi)/b) - 1\n",
        "}\n",
        "\n",
        "#plot the function to see where it crosses the x-axis\n",
        "curve(a2, col = \"red\", xlim=c(0.12,5), ylim=c(-5,5), ylab=\"a2(b)\")\n",
        "abline(h=0)\n",
        "abline(v=0)\n",
        "\n",
        "curve(a2, col = \"red\", xlim=c(10,20), ylim=c(-5,5), ylab=\"a2(b)\")\n",
        "abline(h=0)\n",
        "abline(v=0)\n",
        "#there are 4 roots"
      ],
      "metadata": {
        "colab": {
          "base_uri": "https://localhost:8080/",
          "height": 977
        },
        "id": "DS8Rrt-Ctw-z",
        "outputId": "fbdf6942-efb8-442e-d288-8f0601016f47"
      },
      "execution_count": 33,
      "outputs": [
        {
          "output_type": "display_data",
          "data": {
            "image/png": "[encoded data removed]"
          },
          "metadata": {}
        },
        {
          "output_type": "display_data",
          "data": {
            "image/png": "[encoded data removed]"
          },
          "metadata": {}
        }
      ]
    },
    {
      "cell_type": "code",
      "source": [
        "%%R\n",
        "#write function for secant method\n",
        "secant <- function(a2, b0, b1, eps = 1e-10, n = 1000) {\n",
        "  for (i in 1:n) {\n",
        "    b2 <- b1 - a2(b1) / ((a2(b1)-a2(b0)) / (b1-b0))\n",
        "    if (abs(b2-b1) < eps) {\n",
        "      return(b2)\n",
        "    }\n",
        "    b0 <- b1\n",
        "    b1 <- b2\n",
        "    }\n",
        "}\n",
        "\n",
        "secant(a2,0.15,0.7) #root is at b = 0.6099203"
      ],
      "metadata": {
        "colab": {
          "base_uri": "https://localhost:8080/"
        },
        "id": "xWN_fGX2t3Su",
        "outputId": "e4914d40-a06e-426f-b530-421b445314d5"
      },
      "execution_count": 34,
      "outputs": [
        {
          "output_type": "stream",
          "name": "stdout",
          "text": [
            "[1] 19.57023\n"
          ]
        }
      ]
    },
    {
      "cell_type": "code",
      "source": [
        "%%R\n",
        "secant(a2,0.7,1) #root is at b = 0.7703022"
      ],
      "metadata": {
        "colab": {
          "base_uri": "https://localhost:8080/"
        },
        "id": "TJ4gQfiEt9eO",
        "outputId": "91609c87-b717-4543-c72e-bd65fc969711"
      },
      "execution_count": 35,
      "outputs": [
        {
          "output_type": "stream",
          "name": "stdout",
          "text": [
            "[1] 0.7703022\n"
          ]
        }
      ]
    },
    {
      "cell_type": "code",
      "source": [
        "%%R\n",
        "secant(a2,1,2) #root is at b = 1.274601"
      ],
      "metadata": {
        "colab": {
          "base_uri": "https://localhost:8080/"
        },
        "id": "Fd5mfK0_t-wQ",
        "outputId": "700b14b0-6dc5-4c9f-9e8d-3b1d8923ab5e"
      },
      "execution_count": 36,
      "outputs": [
        {
          "output_type": "stream",
          "name": "stdout",
          "text": [
            "[1] 1.274601\n"
          ]
        }
      ]
    },
    {
      "cell_type": "code",
      "source": [
        "%%R\n",
        "secant(a2,18,20) #root is at b = 19.57023"
      ],
      "metadata": {
        "colab": {
          "base_uri": "https://localhost:8080/"
        },
        "id": "huTDh9aXuBV5",
        "outputId": "e7a59135-3ed7-4833-8b8f-0d7441ebe27a"
      },
      "execution_count": 37,
      "outputs": [
        {
          "output_type": "stream",
          "name": "stdout",
          "text": [
            "[1] 19.57023\n"
          ]
        }
      ]
    },
    {
      "cell_type": "markdown",
      "source": [
        "3. Use fixedpoint to find the fixed point of $\\cos x$. Start with $x_0 = 0$ as your initial guess (the answer is $0.73908513$)."
      ],
      "metadata": {
        "id": "We2n_akgueFP"
      }
    },
    {
      "cell_type": "code",
      "source": [
        "%%R\n",
        "fixedpoint <- function(ftn, x0, tol = 1e-9, max.iter = 100) {\n",
        "  # do first iteration\n",
        "xold <- x0\n",
        "xnew <- ftn(xold)\n",
        "iter <- 1\n",
        "cat(\"At iteration 1 value of x is:\", xnew, \"\\n\")\n",
        "\n",
        "# continue iterating until stopping conditions are met\n",
        "while ((abs(xnew-xold) > tol) && (iter < max.iter)) {\n",
        "xold <- xnew;\n",
        "xnew <- ftn(xold);\n",
        "iter <- iter + 1\n",
        "cat(\"At iteration\", iter, \"value of x is:\", xnew, \"\\n\")\n",
        "}\n",
        "# output depends on success of algorithm\n",
        "if (abs(xnew-xold) > tol) {\n",
        "cat(\"Algorithm failed to converge\\n\")\n",
        "return(NULL)\n",
        "} else {\n",
        "cat(\"Algorithm converged\\n\")\n",
        "return(xnew)\n",
        "}\n",
        "}\n",
        "\n",
        "ftn1 <- function(x) return(cos(x))\n",
        "fixedpoint(ftn1, 0, tol = 1e-06)"
      ],
      "metadata": {
        "colab": {
          "base_uri": "https://localhost:8080/"
        },
        "id": "DUMMlAHPuzfO",
        "outputId": "92d0035c-d47e-4191-9f17-f61bdb9ffcd0"
      },
      "execution_count": 23,
      "outputs": [
        {
          "output_type": "stream",
          "name": "stdout",
          "text": [
            "At iteration 1 value of x is: 1 \n",
            "At iteration 2 value of x is: 0.5403023 \n",
            "At iteration 3 value of x is: 0.8575532 \n",
            "At iteration 4 value of x is: 0.6542898 \n",
            "At iteration 5 value of x is: 0.7934804 \n",
            "At iteration 6 value of x is: 0.7013688 \n",
            "At iteration 7 value of x is: 0.7639597 \n",
            "At iteration 8 value of x is: 0.7221024 \n",
            "At iteration 9 value of x is: 0.7504178 \n",
            "At iteration 10 value of x is: 0.731404 \n",
            "At iteration 11 value of x is: 0.7442374 \n",
            "At iteration 12 value of x is: 0.7356047 \n",
            "At iteration 13 value of x is: 0.7414251 \n",
            "At iteration 14 value of x is: 0.7375069 \n",
            "At iteration 15 value of x is: 0.7401473 \n",
            "At iteration 16 value of x is: 0.7383692 \n",
            "At iteration 17 value of x is: 0.7395672 \n",
            "At iteration 18 value of x is: 0.7387603 \n",
            "At iteration 19 value of x is: 0.7393039 \n",
            "At iteration 20 value of x is: 0.7389378 \n",
            "At iteration 21 value of x is: 0.7391844 \n",
            "At iteration 22 value of x is: 0.7390183 \n",
            "At iteration 23 value of x is: 0.7391302 \n",
            "At iteration 24 value of x is: 0.7390548 \n",
            "At iteration 25 value of x is: 0.7391056 \n",
            "At iteration 26 value of x is: 0.7390714 \n",
            "At iteration 27 value of x is: 0.7390944 \n",
            "At iteration 28 value of x is: 0.7390789 \n",
            "At iteration 29 value of x is: 0.7390893 \n",
            "At iteration 30 value of x is: 0.7390823 \n",
            "At iteration 31 value of x is: 0.739087 \n",
            "At iteration 32 value of x is: 0.7390838 \n",
            "At iteration 33 value of x is: 0.739086 \n",
            "At iteration 34 value of x is: 0.7390845 \n",
            "At iteration 35 value of x is: 0.7390855 \n",
            "Algorithm converged\n",
            "[1] 0.7390855\n"
          ]
        }
      ]
    },
    {
      "cell_type": "markdown",
      "source": [
        "Now use newton raphson to find the root of $\\cos x − x$, starting with $x_0 = 0$ as your initial guess. Is it faster than the fixed-point method?"
      ],
      "metadata": {
        "id": "1u9_dgHbvDzO"
      }
    },
    {
      "cell_type": "code",
      "source": [
        "%%R\n",
        "newtonraphson <- function(ftn, x0, tol = 1e-9, max.iter = 100) {\n",
        "  # initialise\n",
        "x <- x0\n",
        "fx <- ftn(x)\n",
        "iter <- 0\n",
        "# continue iterating until stopping conditions are met\n",
        "while ((abs(fx[1]) > tol) && (iter < max.iter)) {\n",
        "x <- x - fx[1]/fx[2]\n",
        "fx <- ftn(x)\n",
        "iter <- iter + 1\n",
        "cat(\"At iteration\", iter, \"value of x is:\", x, \"\\n\")\n",
        "}\n",
        "# output depends on success of algorithm\n",
        "if (abs(fx[1]) > tol) {\n",
        "cat(\"Algorithm failed to converge\\n\")\n",
        "return(NULL)\n",
        "} else {\n",
        "cat(\"Algorithm converged\\n\")\n",
        "return(x)\n",
        "}\n",
        "}\n",
        "\n",
        "ftn2 <- function(x) {\n",
        " fx <- cos(x) - x\n",
        " dfx <- -sin(x) - 1\n",
        " return(c(fx, dfx))\n",
        " }\n",
        "newtonraphson(ftn2, 0, 1e-06)"
      ],
      "metadata": {
        "colab": {
          "base_uri": "https://localhost:8080/"
        },
        "id": "nO0XYpVXvEyh",
        "outputId": "3346f3fe-0fac-4cee-a768-8f707f7e2c94"
      },
      "execution_count": 9,
      "outputs": [
        {
          "output_type": "stream",
          "name": "stdout",
          "text": [
            "At iteration 1 value of x is: 1 \n",
            "At iteration 2 value of x is: 0.7503639 \n",
            "At iteration 3 value of x is: 0.7391129 \n",
            "At iteration 4 value of x is: 0.7390851 \n",
            "Algorithm converged\n",
            "[1] 0.7390851\n"
          ]
        }
      ]
    },
    {
      "cell_type": "markdown",
      "source": [
        "Yes, Newton Raphson (4 iterations) is faster than Fixed Point Iteration (35 iterations)!"
      ],
      "metadata": {
        "id": "kBHH9DPyvXoN"
      }
    },
    {
      "cell_type": "markdown",
      "source": [
        "4. For $f : \\mathbb{R} → \\mathbb{R}$, the Newton-Raphson algorithm uses a sequence of linear\n",
        "approximations of $f$ to find a root. What happens if we use quadratic approximations instead?\n",
        "Suppose that $x_n$ is our current approximation to $f$, then a quadratic approximation to $f$ at $x_n$ is given by the second-order Taylor expansion:\n",
        "$f(x) ≈ g_n(x) = f(x_n) + (x − x_n)f′(x_n) + \\frac{1}{2}(x − x_n)^2f′′(x_n)$. \\\\\n",
        "Let $x_{n+1}$ be the solution of $g_n(x) = 0$ that is closest to $x_n$, assuming a solution exists. If $g_n(x) = 0$ has no solution, then let $x_n+1$ be the point at which $g_n$ attains either its minimum or maximum. \\\\\n",
        "Implement this algorithm in R and use it to find the fixed points of the\n",
        "following functions:"
      ],
      "metadata": {
        "id": "QX4EsafRf18Z"
      }
    },
    {
      "cell_type": "markdown",
      "source": [
        "$(a)$. $\\cos(x) − x$ using $x_0 = 1, 3, 6$."
      ],
      "metadata": {
        "id": "MAFsZhcRhSHn"
      }
    },
    {
      "cell_type": "code",
      "source": [
        "%%R\n",
        "newtonraphson_quad <- function(ftn, x0, tol = 1e-9, max.iter = 100) {\n",
        "  # initialise\n",
        "  x <- x0\n",
        "  fx <- ftn(x)\n",
        "  iter <- 0\n",
        "  # continue iterating until stopping conditions are met\n",
        "  while ((abs(fx[1]) > tol) && (iter < max.iter)) {\n",
        "    vertex = (x*fx[3]-fx[2])/fx[3]\n",
        "    disc = (-x*fx[3] + fx[2])^2 - 4*((1/2)*fx[3]*(fx[1] - x*fx[2] + (1/2)*x^2 * fx[3]))\n",
        "    if (disc < 0) {\n",
        "      x <- vertex\n",
        "    } else if (x > vertex) {\n",
        "      x <- vertex + abs(sqrt(disc)/fx[3])\n",
        "    } else {\n",
        "      x <- vertex - abs(sqrt(disc)/fx[3])\n",
        "    }\n",
        "  fx <- ftn(x)\n",
        "  iter <- iter + 1\n",
        "  cat(\"At iteration\", iter, \"value of x is:\", x, \"\\n\")\n",
        "  }\n",
        "\n",
        "  # output depends on success of algorithm\n",
        "  if (abs(fx[1]) > tol) {\n",
        "    cat(\"Algorithm failed to converge.\\n Extrema point obtained\")\n",
        "    return(NULL)\n",
        "  } else {\n",
        "  cat(\"Algorithm converged\\n\")\n",
        "  return(x)\n",
        "  }\n",
        "}\n",
        "\n",
        "\n",
        "ftn3 <- function(x) {\n",
        " fx <- cos(x) - 2*x\n",
        " dfx <- -sin(x) - 2\n",
        " dfx2 <- -cos(x)\n",
        " return(c(fx, dfx, dfx2))\n",
        "}\n",
        "\n",
        "newtonraphson_quad(ftn3, 1, 1e-06)\n",
        "newtonraphson_quad(ftn3, 3, 1e-06)\n",
        "newtonraphson_quad(ftn3, 6, 1e-06)"
      ],
      "metadata": {
        "colab": {
          "base_uri": "https://localhost:8080/"
        },
        "id": "NYHYW--Ehbqy",
        "outputId": "32b13d7f-b555-4338-b018-66ccebff8f04"
      },
      "execution_count": 17,
      "outputs": [
        {
          "output_type": "stream",
          "name": "stdout",
          "text": [
            "At iteration 1 value of x is: 0.4583998 \n",
            "At iteration 2 value of x is: 0.4501836 \n",
            "Algorithm converged\n",
            "At iteration 1 value of x is: 0.8269996 \n",
            "At iteration 2 value of x is: 0.4525812 \n",
            "At iteration 3 value of x is: 0.4501836 \n",
            "Algorithm converged\n",
            "At iteration 1 value of x is: 4.208042 \n",
            "At iteration 2 value of x is: 0.03528846 \n",
            "At iteration 3 value of x is: 0.4495128 \n",
            "At iteration 4 value of x is: 0.4501836 \n",
            "Algorithm converged\n",
            "[1] 0.4501836\n"
          ]
        }
      ]
    },
    {
      "cell_type": "code",
      "source": [
        "%%R\n",
        "#Compare to newton raphson:\n",
        "newtonraphson(ftn3, 1, 1e-06)\n",
        "newtonraphson(ftn3, 3, 1e-06)\n",
        "newtonraphson(ftn3, 6, 1e-06)"
      ],
      "metadata": {
        "colab": {
          "base_uri": "https://localhost:8080/"
        },
        "id": "CsdIQjw6hu6R",
        "outputId": "60782005-2ff5-4d9b-9bbd-b9ac81468b13"
      },
      "execution_count": 16,
      "outputs": [
        {
          "output_type": "stream",
          "name": "stdout",
          "text": [
            "At iteration 1 value of x is: 0.486288 \n",
            "At iteration 2 value of x is: 0.4504186 \n",
            "At iteration 3 value of x is: 0.4501836 \n",
            "Algorithm converged\n",
            "At iteration 1 value of x is: -0.264643 \n",
            "At iteration 2 value of x is: 0.595022 \n",
            "At iteration 3 value of x is: 0.4536808 \n",
            "At iteration 4 value of x is: 0.4501859 \n",
            "At iteration 5 value of x is: 0.4501836 \n",
            "Algorithm converged\n",
            "At iteration 1 value of x is: -0.4163252 \n",
            "At iteration 2 value of x is: 0.6787075 \n",
            "At iteration 3 value of x is: 0.4583585 \n",
            "At iteration 4 value of x is: 0.4501959 \n",
            "At iteration 5 value of x is: 0.4501836 \n",
            "Algorithm converged\n",
            "[1] 0.4501836\n"
          ]
        }
      ]
    },
    {
      "cell_type": "markdown",
      "source": [
        "$(d)$. $x^3 − 7x^2 + 14x − 8$ using $x_0 = 1.1, 1.2, . . ., 1.9$."
      ],
      "metadata": {
        "id": "8bc4V2q7iUsh"
      }
    },
    {
      "cell_type": "code",
      "source": [
        "%%R\n",
        "ftn4 <- function(x) {\n",
        " fx <- x^3 - 7*x^2 + 14*x - 8\n",
        " dfx <- 3*x^2 - 14*x + 14\n",
        " dfx2 <- 6*x - 14\n",
        " return(c(fx, dfx, dfx2))\n",
        "}\n",
        "\n",
        "newtonraphson_quad(ftn4, 1.1, 1e-06)\n",
        "newtonraphson_quad(ftn4, 1.2, 1e-06)\n",
        "newtonraphson_quad(ftn4, 1.3, 1e-06)\n",
        "newtonraphson_quad(ftn4, 1.4, 1e-06)\n",
        "newtonraphson_quad(ftn4, 1.5, 1e-06)\n",
        "newtonraphson_quad(ftn4, 1.6, 1e-06)\n",
        "newtonraphson_quad(ftn4, 1.7, 1e-06)\n",
        "newtonraphson_quad(ftn4, 1.8, 1e-06)\n",
        "newtonraphson_quad(ftn4, 1.9, 1e-06)"
      ],
      "metadata": {
        "colab": {
          "base_uri": "https://localhost:8080/"
        },
        "id": "Q2L9FcnnifYF",
        "outputId": "df790854-cdc6-4a8a-98e9-1887cbc4e602"
      },
      "execution_count": 13,
      "outputs": [
        {
          "output_type": "stream",
          "name": "stdout",
          "text": [
            "At iteration 1 value of x is: 0.9996634 \n",
            "At iteration 2 value of x is: 1 \n",
            "Algorithm converged\n",
            "[1] 1\n"
          ]
        }
      ]
    },
    {
      "cell_type": "code",
      "source": [
        "%%R\n",
        "newtonraphson(ftn4, 1.1, 1e-06)\n",
        "newtonraphson(ftn4, 1.2, 1e-06)\n",
        "newtonraphson(ftn4, 1.3, 1e-06)\n",
        "newtonraphson(ftn4, 1.4, 1e-06)\n",
        "newtonraphson(ftn4, 1.5, 1e-06)\n",
        "newtonraphson(ftn4, 1.6, 1e-06)\n",
        "newtonraphson(ftn4, 1.7, 1e-06)\n",
        "newtonraphson(ftn4, 1.8, 1e-06)\n",
        "newtonraphson(ftn4, 1.9, 1e-06)"
      ],
      "metadata": {
        "colab": {
          "base_uri": "https://localhost:8080/"
        },
        "id": "qoAWnpSQikk7",
        "outputId": "ab3f20c9-381a-4429-d959-57e3673ed4ab"
      },
      "execution_count": 19,
      "outputs": [
        {
          "output_type": "stream",
          "name": "stdout",
          "text": [
            "At iteration 1 value of x is: 0.9829596 \n",
            "At iteration 2 value of x is: 0.9996266 \n",
            "At iteration 3 value of x is: 0.9999998 \n",
            "Algorithm converged\n",
            "At iteration 1 value of x is: 0.9052632 \n",
            "At iteration 2 value of x is: 0.9900654 \n",
            "At iteration 3 value of x is: 0.9998712 \n",
            "At iteration 4 value of x is: 1 \n",
            "Algorithm converged\n",
            "At iteration 1 value of x is: 0.6482759 \n",
            "At iteration 2 value of x is: 0.9059224 \n",
            "At iteration 3 value of x is: 0.9901916 \n",
            "At iteration 4 value of x is: 0.9998744 \n",
            "At iteration 5 value of x is: 1 \n",
            "Algorithm converged\n",
            "At iteration 1 value of x is: -0.8285714 \n",
            "At iteration 2 value of x is: 0.07435419 \n",
            "At iteration 3 value of x is: 0.6136214 \n",
            "At iteration 4 value of x is: 0.891034 \n",
            "At iteration 5 value of x is: 0.9871826 \n",
            "At iteration 6 value of x is: 0.9997869 \n",
            "At iteration 7 value of x is: 0.9999999 \n",
            "Algorithm converged\n",
            "At iteration 1 value of x is: 4 \n",
            "Algorithm converged\n",
            "At iteration 1 value of x is: 2.4 \n",
            "At iteration 2 value of x is: 2.013793 \n",
            "At iteration 3 value of x is: 2.000091 \n",
            "At iteration 4 value of x is: 2 \n",
            "Algorithm converged\n",
            "At iteration 1 value of x is: 2.127434 \n",
            "At iteration 2 value of x is: 2.005485 \n",
            "At iteration 3 value of x is: 2.000015 \n",
            "At iteration 4 value of x is: 2 \n",
            "Algorithm converged\n",
            "At iteration 1 value of x is: 2.037838 \n",
            "At iteration 2 value of x is: 2.000639 \n",
            "At iteration 3 value of x is: 2 \n",
            "Algorithm converged\n",
            "At iteration 1 value of x is: 2.00678 \n",
            "At iteration 2 value of x is: 2.000023 \n",
            "At iteration 3 value of x is: 2 \n",
            "Algorithm converged\n",
            "[1] 2\n"
          ]
        }
      ]
    },
    {
      "cell_type": "markdown",
      "source": [
        "5. How do we know $\\pi = 3.1415926$ (to 7 decimal places)? One way of finding $\\pi$ is to solve $\\sin(x) = 0$. By definition the solutions to $\\sin(x) = 0$ are $k\\pi$ for $k = 0, ±1, ±2, . . .$, so the root closest to $3$ should be $\\pi$."
      ],
      "metadata": {
        "id": "WbXNtP2TqBvH"
      }
    },
    {
      "cell_type": "markdown",
      "source": [
        "$(a)$. Use a root-finding algorithm, such as the Newton-Raphson algorithm, to find the root of $\\sin(x)$ near $3$. How close can you get to $\\pi$?"
      ],
      "metadata": {
        "id": "Lr_MYYS6qRMu"
      }
    },
    {
      "cell_type": "code",
      "source": [
        "%%R\n",
        "ftn5 <- function(x) {\n",
        " fx <- sin(x)\n",
        " dfx <- cos(x)\n",
        " return(c(fx, dfx))\n",
        "}\n",
        "\n",
        "newtonraphson(ftn5, 3.14, 1e-10)"
      ],
      "metadata": {
        "colab": {
          "base_uri": "https://localhost:8080/"
        },
        "id": "Bmlu8UmWqNJS",
        "outputId": "f221b84c-2b24-45e7-c2ce-abf93b637548"
      },
      "execution_count": 20,
      "outputs": [
        {
          "output_type": "stream",
          "name": "stdout",
          "text": [
            "At iteration 1 value of x is: 3.141593 \n",
            "At iteration 2 value of x is: 3.141593 \n",
            "Algorithm converged\n",
            "[1] 3.141593\n"
          ]
        }
      ]
    },
    {
      "cell_type": "markdown",
      "source": [
        "$(b)$. Put \\\\\n",
        "$f_n(x) = \\sum_{k=0}^n (-1)^k \\frac{x^{2k+1}}{(2k+1)!}$\n",
        "\n",
        "Write a function in R to calculate $f_n(x)$. Plot $f_n(x)$ over the range $[0, 7]$\n",
        "for a number of values of $n$, and verify that it looks like $\\sin(x)$ for large $n$."
      ],
      "metadata": {
        "id": "v-uEiFBQqa60"
      }
    },
    {
      "cell_type": "code",
      "source": [
        "%%R\n",
        "sinfunc <- function(n) {\n",
        "  result <- function(x) {\n",
        "    k = 0:n\n",
        "    sum(((-1)^k*x^(2*k + 1))/factorial(2*k + 1))\n",
        "  }\n",
        "  return(result)\n",
        "}\n",
        "\n",
        "#plot my function and the sin function\n",
        "curve(Vectorize(sinfunc(1))(x), col = \"red\", xlim=c(0,7), ylim=c(-2,2), ylab=\"sin(x) approximation\")\n",
        "curve(Vectorize(sinfunc(3))(x), col = \"green\", add = TRUE)\n",
        "curve(sin, col = \"pink\", add = TRUE)\n",
        "curve(Vectorize(sinfunc(10))(x), col = \"brown\", add = TRUE)\n",
        "curve(Vectorize(sinfunc(20))(x), col = \"black\", add = TRUE)\n",
        "abline(h=0)"
      ],
      "metadata": {
        "colab": {
          "base_uri": "https://localhost:8080/",
          "height": 497
        },
        "id": "9Af0QIWirI5w",
        "outputId": "6004db00-84e3-459d-fabb-2abbc05983a3"
      },
      "execution_count": 21,
      "outputs": [
        {
          "output_type": "display_data",
          "data": {
            "image/png": "[encoded data removed]"
          },
          "metadata": {}
        }
      ]
    },
    {
      "cell_type": "markdown",
      "source": [
        "The approximation for $n = 20$ completely covers the actual $\\sin$ function, which is plotted with a pink curve. This approximation is very good then."
      ],
      "metadata": {
        "id": "1fXu_hSTrStc"
      }
    },
    {
      "cell_type": "markdown",
      "source": [
        "$(c)$. Choose a large value of $n$, then find an approximation to $\\pi$ by solving $f_n(x) = 0$ near $3$. Can you get an approximation that is correct up to 6 decimal places? Can you think of a better way of calculating $\\pi$?"
      ],
      "metadata": {
        "id": "fUAnKE-drVi2"
      }
    },
    {
      "cell_type": "code",
      "source": [
        "%%R\n",
        "fixedpoint(function(x) sinfunc(200) (x) + x, 3.14, 1e-10)"
      ],
      "metadata": {
        "colab": {
          "base_uri": "https://localhost:8080/"
        },
        "id": "knXl4YberjsV",
        "outputId": "085c8702-1f7c-4196-a109-3281556463da"
      },
      "execution_count": 24,
      "outputs": [
        {
          "output_type": "stream",
          "name": "stdout",
          "text": [
            "At iteration 1 value of x is: 3.141593 \n",
            "At iteration 2 value of x is: 3.141593 \n",
            "At iteration 3 value of x is: 3.141593 \n",
            "Algorithm converged\n",
            "[1] 3.141593\n"
          ]
        }
      ]
    },
    {
      "cell_type": "markdown",
      "source": [
        "No, I can get it to 5 values though."
      ],
      "metadata": {
        "id": "_4xn2tcYrqZ0"
      }
    },
    {
      "cell_type": "markdown",
      "source": [
        "6. Use the Newton-Raphson algorithm to find the roots of the following function (there are 3 roots: $f(x) = x^3 − 1957x^2 + 1187296x − 210305472$"
      ],
      "metadata": {
        "id": "aE26dw-CrtIx"
      }
    },
    {
      "cell_type": "code",
      "source": [
        "%%R\n",
        "ftn7 <- function(x) {\n",
        " fx <- x^3 - 1957*x^2 + 1187296*x - 210305472\n",
        " dfx <- 3*x^2 - 3914*x + 1187296\n",
        " return(c(fx, dfx))\n",
        "}\n",
        "\n",
        "#write f(x) as a function that is plottable to help find roots visually.\n",
        "g <- function(x) {\n",
        "  fx <- x^3 - 1957*x^2 + 1187296*x - 210305472\n",
        "}\n",
        "\n",
        "#plot the function to see where it crosses the x-axis\n",
        "curve(g, col = \"red\", xlim=c(290,320), ylim=c(-5,5), ylab=\"f(x)\")\n",
        "abline(h=0)\n",
        "abline(v=0)\n",
        "\n",
        "curve(g, col = \"red\", xlim=c(750,790), ylim=c(-5,5), ylab=\"f(x)\")\n",
        "abline(h=0)\n",
        "abline(v=0)\n",
        "\n",
        "curve(g, col = \"red\", xlim=c(850,890), ylim=c(-5,5), ylab=\"f(x)\")\n",
        "abline(h=0)\n",
        "abline(v=0)\n",
        "\n",
        "newtonraphson(ftn7, 300, 1e-06)\n",
        "newtonraphson(ftn7, 760, 1e-06)\n",
        "newtonraphson(ftn7, 860, 1e-06)"
      ],
      "metadata": {
        "colab": {
          "base_uri": "https://localhost:8080/",
          "height": 1000
        },
        "id": "EFM3rFzmryvG",
        "outputId": "32f27247-7c10-4f9a-c672-a717995d4d17"
      },
      "execution_count": 25,
      "outputs": [
        {
          "output_type": "stream",
          "name": "stdout",
          "text": [
            "At iteration 1 value of x is: 311.4684 \n",
            "At iteration 2 value of x is: 311.9989 \n",
            "At iteration 3 value of x is: 312 \n",
            "At iteration 4 value of x is: 312 \n",
            "Algorithm converged\n",
            "At iteration 1 value of x is: 771.9589 \n",
            "At iteration 2 value of x is: 772.9916 \n",
            "At iteration 3 value of x is: 773 \n",
            "At iteration 4 value of x is: 773 \n",
            "Algorithm converged\n",
            "At iteration 1 value of x is: 874.2828 \n",
            "At iteration 2 value of x is: 872.0591 \n",
            "At iteration 3 value of x is: 872 \n",
            "At iteration 4 value of x is: 872 \n",
            "At iteration 5 value of x is: 872 \n",
            "Algorithm converged\n",
            "[1] 872\n"
          ]
        },
        {
          "output_type": "display_data",
          "data": {
            "image/png": "[encoded data removed]"
          },
          "metadata": {}
        },
        {
          "output_type": "display_data",
          "data": {
            "image/png": "[encoded data removed]"
          },
          "metadata": {}
        },
        {
          "output_type": "display_data",
          "data": {
            "image/png": "[encoded data removed]"
          },
          "metadata": {}
        }
      ]
    }
  ]
}