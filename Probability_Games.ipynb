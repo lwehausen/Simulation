{
  "nbformat": 4,
  "nbformat_minor": 0,
  "metadata": {
    "colab": {
      "provenance": [],
      "authorship_tag": "ABX9TyMJp5srQPKlfUsozUp0THNx",
      "include_colab_link": true
    },
    "kernelspec": {
      "name": "python3",
      "display_name": "Python 3"
    },
    "language_info": {
      "name": "python"
    }
  },
  "cells": [
    {
      "cell_type": "markdown",
      "metadata": {
        "id": "view-in-github",
        "colab_type": "text"
      },
      "source": [
        "<a href=\"https://colab.research.google.com/github/lwehausen/Simulation/blob/main/Probability_Games.ipynb\" target=\"_parent\"><img src=\"https://colab.research.google.com/assets/colab-badge.svg\" alt=\"Open In Colab\"/></a>"
      ]
    },
    {
      "cell_type": "code",
      "source": [
        "#To run R in Google Colab:\n",
        "%load_ext rpy2.ipython"
      ],
      "metadata": {
        "id": "mwzGoAb2gPQ7",
        "colab": {
          "base_uri": "https://localhost:8080/"
        },
        "outputId": "63cb81e2-c174-4f40-b1ed-782241b98685"
      },
      "execution_count": 7,
      "outputs": [
        {
          "output_type": "stream",
          "name": "stdout",
          "text": [
            "The rpy2.ipython extension is already loaded. To reload it, use:\n",
            "  %reload_ext rpy2.ipython\n"
          ]
        }
      ]
    },
    {
      "cell_type": "code",
      "source": [
        "%%R\n",
        "library(ggplot2)"
      ],
      "metadata": {
        "id": "zmx3hd4WmRCj"
      },
      "execution_count": 22,
      "outputs": []
    },
    {
      "cell_type": "markdown",
      "source": [
        "#1. Craps"
      ],
      "metadata": {
        "id": "t9JUSNGWhYBM"
      }
    },
    {
      "cell_type": "markdown",
      "source": [
        "The game of craps is played as follows. First, you roll two six-sided dice; let $x$ be the sum of the dice on the first roll. If $x = 7$ or $11$ you win, otherwise you keep rolling until either you get $x$ again, in which case you also win, or until you get a $7$ or $11$, in which case you lose. Write a program to simulate a game of craps. You can use the following snippet of code to simulate the roll of two (fair) dice:\n",
        "$x <- \\text{sum}(\\text{ceiling}(6*\\text{runif(2)}))$"
      ],
      "metadata": {
        "id": "uJiTKNpBgJTK"
      }
    },
    {
      "cell_type": "code",
      "execution_count": 8,
      "metadata": {
        "colab": {
          "base_uri": "https://localhost:8080/"
        },
        "id": "podGRf6cgAc2",
        "outputId": "ffed5501-88d3-4a78-dd29-82ada5590d26"
      },
      "outputs": [
        {
          "output_type": "stream",
          "name": "stdout",
          "text": [
            "[1] \"x = 9\"\n",
            "[1] \"y = 9\"\n",
            "[1] \"Winner!\"\n"
          ]
        }
      ],
      "source": [
        "%%R\n",
        "\n",
        "craps <- function(){\n",
        "x <- sum(ceiling(6*runif(2)))\n",
        "if (x == 7 | x == 11){\n",
        "  print(x)\n",
        "  print(\"Winner!\")\n",
        "} else {\n",
        "  print(paste0(\"x = \", x))\n",
        "}\n",
        "  y = 0\n",
        "  while(y != 7 & y != 11 & y != x){\n",
        "    y <- sum(ceiling(6*runif(2)))\n",
        "    print(paste0(\"y = \", y))\n",
        "  }\n",
        "  if (y == 7 | y == 11){\n",
        "    print(\"Loser!\")\n",
        "  } else{\n",
        "    print(\"Winner!\")\n",
        "  }\n",
        "\n",
        "}\n",
        "craps()"
      ]
    },
    {
      "cell_type": "markdown",
      "source": [
        "# 2. Chevalier de Méré"
      ],
      "metadata": {
        "id": "rAieHTFvhEeG"
      }
    },
    {
      "cell_type": "markdown",
      "source": [
        "In this question we simulate the rolling of a die. \\\\\n",
        "$(a)$ Suppose that you are playing the gambling game of the Chevalier de\n",
        "Méré. That is, you are betting that you get at least one six in 4 throws of a die. Write a program that simulates one round of this game and prints out whether you win or lose."
      ],
      "metadata": {
        "id": "JZAZRjktgovK"
      }
    },
    {
      "cell_type": "code",
      "source": [
        "%%R\n",
        "\n",
        "chevalier <- function(){\n",
        "  win = FALSE\n",
        "  for(i in 1:4) {\n",
        "    x <- ceiling(6*runif(1))\n",
        "    print(x)\n",
        "    if (x == 6){\n",
        "      win = TRUE\n",
        "    }\n",
        "  }\n",
        "  if(win) {\n",
        "    print(\"Winner\")\n",
        "  } else {\n",
        "    print(\"Loser\")\n",
        "  }\n",
        "}\n",
        "chevalier()"
      ],
      "metadata": {
        "colab": {
          "base_uri": "https://localhost:8080/"
        },
        "id": "aeIzqoqcgq0u",
        "outputId": "c792b87c-c80e-4391-84b1-7abb09cefa43"
      },
      "execution_count": 9,
      "outputs": [
        {
          "output_type": "stream",
          "name": "stdout",
          "text": [
            "[1] 3\n",
            "[1] 2\n",
            "[1] 1\n",
            "[1] 5\n",
            "[1] \"Loser\"\n"
          ]
        }
      ]
    },
    {
      "cell_type": "markdown",
      "source": [
        "$(b)$ Turn the program that you wrote in part $(a)$ into a function sixes,\n",
        "which returns TRUE if you obtain at least one six in n rolls of a fair die and returns FALSE otherwise. That is, the argument is the number of\n",
        "rolls $n$, and the value returned is TRUE if you get at least one six and FALSE otherwise. How would you give $n$ the default value of $4$?"
      ],
      "metadata": {
        "id": "F9DWbn3Thmo0"
      }
    },
    {
      "cell_type": "code",
      "source": [
        "%%R\n",
        "\n",
        "sixes <- function(n=4){\n",
        "  win = FALSE\n",
        "  for(i in 1:n) {\n",
        "    x <- ceiling(6*runif(1))\n",
        "    print(x)\n",
        "    if (x == 6){\n",
        "      win = TRUE\n",
        "    }\n",
        "  }\n",
        "  win\n",
        "}\n",
        "#check that default n value is 4\n",
        "sixes()"
      ],
      "metadata": {
        "colab": {
          "base_uri": "https://localhost:8080/"
        },
        "id": "TZZab_2ihyUw",
        "outputId": "be511002-3006-48d2-fed9-6522699420e0"
      },
      "execution_count": 10,
      "outputs": [
        {
          "output_type": "stream",
          "name": "stdout",
          "text": [
            "[1] 2\n",
            "[1] 3\n",
            "[1] 5\n",
            "[1] 4\n",
            "[1] FALSE\n"
          ]
        }
      ]
    },
    {
      "cell_type": "code",
      "source": [
        "%%R\n",
        "#test that I can choose n value as well\n",
        "sixes(2)"
      ],
      "metadata": {
        "colab": {
          "base_uri": "https://localhost:8080/"
        },
        "id": "6JbPRIegiFrl",
        "outputId": "2e704690-b5e2-4839-fe74-3d6db3a8db90"
      },
      "execution_count": 11,
      "outputs": [
        {
          "output_type": "stream",
          "name": "stdout",
          "text": [
            "[1] 1\n",
            "[1] 2\n",
            "[1] FALSE\n"
          ]
        }
      ]
    },
    {
      "cell_type": "markdown",
      "source": [
        "$(c)$ $(i)$. Determine the proportion of times you win the bet. This proportion is an estimate of the probability of getting at least one $6$ in $n$ rolls of a fair die."
      ],
      "metadata": {
        "id": "aIQ-sqqniRD-"
      }
    },
    {
      "cell_type": "code",
      "source": [
        "%%R\n",
        "#i\n",
        "sixes <- function(n=4){\n",
        "  win = FALSE\n",
        "  for(i in 1:n) {\n",
        "    x <- ceiling(6*runif(1))\n",
        "    if (x == 6){\n",
        "      win = TRUE\n",
        "    }\n",
        "  }\n",
        "  win\n",
        "}\n",
        "sixes()"
      ],
      "metadata": {
        "colab": {
          "base_uri": "https://localhost:8080/"
        },
        "id": "z8k81W93iZRv",
        "outputId": "89951e86-d378-4fe4-b3ad-0e1cdd0164cd"
      },
      "execution_count": 12,
      "outputs": [
        {
          "output_type": "stream",
          "name": "stdout",
          "text": [
            "[1] TRUE\n"
          ]
        }
      ]
    },
    {
      "cell_type": "markdown",
      "source": [
        "$(ii)$. Run the program for $n = 4$ and $N = 100$, $1000$, and $10000$, conducting several runs for each $N$ value. How does the variability of your results depend on $N$?"
      ],
      "metadata": {
        "id": "FwgLxbXmivEP"
      }
    },
    {
      "cell_type": "code",
      "source": [
        "%%R\n",
        "#(ii). Probability of winning for n = 4\n",
        "probwin <- function(n,N) {\n",
        "  sum = 0\n",
        "  for (i in 1:N) {\n",
        "    if (sixes(n)) {\n",
        "      sum <- sum + 1\n",
        "    }\n",
        "  }\n",
        "  probwin <- sum/N\n",
        "  probwin\n",
        "}\n",
        "probwin(4,4)"
      ],
      "metadata": {
        "id": "ysjb9x6ti7to",
        "colab": {
          "base_uri": "https://localhost:8080/"
        },
        "outputId": "36fa77e7-f7f6-4599-b392-dcaf346bb41f"
      },
      "execution_count": 13,
      "outputs": [
        {
          "output_type": "stream",
          "name": "stdout",
          "text": [
            "[1] 0.5\n"
          ]
        }
      ]
    },
    {
      "cell_type": "code",
      "source": [
        "%%R\n",
        "#(ii). Probability of winning for n = 100\n",
        "replicate(3, probwin(4,100))"
      ],
      "metadata": {
        "colab": {
          "base_uri": "https://localhost:8080/"
        },
        "id": "8UWF0yQij6jd",
        "outputId": "f113376c-1cf6-4400-9b9d-a1bb1566b8d6"
      },
      "execution_count": 14,
      "outputs": [
        {
          "output_type": "stream",
          "name": "stdout",
          "text": [
            "[1] 0.47 0.47 0.52\n"
          ]
        }
      ]
    },
    {
      "cell_type": "code",
      "source": [
        "%%R\n",
        "#(ii). Probability of winning for n = 1000\n",
        "replicate(3, probwin(4,1000))"
      ],
      "metadata": {
        "colab": {
          "base_uri": "https://localhost:8080/"
        },
        "id": "0Ug5ePRakCgm",
        "outputId": "c23fe3f1-6a8a-4565-c136-f1d986a74515"
      },
      "execution_count": 15,
      "outputs": [
        {
          "output_type": "stream",
          "name": "stdout",
          "text": [
            "[1] 0.510 0.522 0.514\n"
          ]
        }
      ]
    },
    {
      "cell_type": "code",
      "source": [
        "%%R\n",
        "#(ii). Probability of winning for n = 10000\n",
        "replicate(3, probwin(4,10000))"
      ],
      "metadata": {
        "colab": {
          "base_uri": "https://localhost:8080/"
        },
        "id": "EE2i5kSlkEfI",
        "outputId": "61404bfe-251c-4ee1-c844-6462555bf539"
      },
      "execution_count": 16,
      "outputs": [
        {
          "output_type": "stream",
          "name": "stdout",
          "text": [
            "[1] 0.5124 0.5205 0.5164\n"
          ]
        }
      ]
    },
    {
      "cell_type": "markdown",
      "source": [
        "As $N$ increases, variability decreases."
      ],
      "metadata": {
        "id": "kERFHvQ2kPII"
      }
    },
    {
      "cell_type": "markdown",
      "source": [
        "$(iii)$. Modify your program so that it calculates the theoretical probability as well as the simulation estimate and prints the difference between them. How does the accuracy of your results depend on $N$?"
      ],
      "metadata": {
        "id": "it3eIOEnkQ0d"
      }
    },
    {
      "cell_type": "code",
      "source": [
        "%%R\n",
        "#(iii). Calculate theoretical probability, simulation estimate and the difference between them for n = 4\n",
        "theoprob <- function(n=4){\n",
        "  1-(5/6)^n}\n",
        "\n",
        "theoprob(5)"
      ],
      "metadata": {
        "colab": {
          "base_uri": "https://localhost:8080/"
        },
        "id": "nTglWiGPkaBP",
        "outputId": "803697aa-6a94-49dc-8861-925eba6a3b4a"
      },
      "execution_count": 17,
      "outputs": [
        {
          "output_type": "stream",
          "name": "stdout",
          "text": [
            "[1] 0.5981224\n"
          ]
        }
      ]
    },
    {
      "cell_type": "code",
      "source": [
        "%%R\n",
        "#(iii). Calculate theoretical probability, simulation estimate and the difference between them for n = 100\n",
        "q <- replicate(3, probwin(4,100))\n",
        "diffq <- (abs(theoprob(4)) - q)\n",
        "diffq"
      ],
      "metadata": {
        "colab": {
          "base_uri": "https://localhost:8080/"
        },
        "id": "5nshlg-Mkmwp",
        "outputId": "fdddb515-3463-4d24-aece-bd6414b31f19"
      },
      "execution_count": 18,
      "outputs": [
        {
          "output_type": "stream",
          "name": "stdout",
          "text": [
            "[1] -0.02225309  0.02774691  0.17774691\n"
          ]
        }
      ]
    },
    {
      "cell_type": "code",
      "source": [
        "%%R\n",
        "#(iii). Calculate theoretical probability, simulation estimate and the difference between them for n = 1000\n",
        "r <- replicate(3, probwin(4,1000))\n",
        "diffr <- (abs(theoprob(4)) - r)\n",
        "diffr"
      ],
      "metadata": {
        "colab": {
          "base_uri": "https://localhost:8080/"
        },
        "id": "83sdrfwpko-R",
        "outputId": "f7906797-33ad-4d88-de67-7c6aa4a66aaf"
      },
      "execution_count": 19,
      "outputs": [
        {
          "output_type": "stream",
          "name": "stdout",
          "text": [
            "[1]  0.02074691 -0.01925309 -0.01425309\n"
          ]
        }
      ]
    },
    {
      "cell_type": "code",
      "source": [
        "%%R\n",
        "#(iii). Calculate theoretical probability, simulation estimate and the difference between them for n = 10000\n",
        "t <- replicate(3, probwin(4,10000))\n",
        "difft <- (abs(theoprob(4)) - t)\n",
        "difft"
      ],
      "metadata": {
        "colab": {
          "base_uri": "https://localhost:8080/"
        },
        "id": "QDZuHgJsktKg",
        "outputId": "e662e93c-efaa-4f33-8a45-31cf0da234ce"
      },
      "execution_count": 20,
      "outputs": [
        {
          "output_type": "stream",
          "name": "stdout",
          "text": [
            "[1]  0.007846914  0.001746914 -0.006953086\n"
          ]
        }
      ]
    },
    {
      "cell_type": "markdown",
      "source": [
        "As $N$ increases, accuracy increases."
      ],
      "metadata": {
        "id": "9h4uuVZIlAV2"
      }
    },
    {
      "cell_type": "markdown",
      "source": [
        "$(d)$. Write a program to write the result of all $N$ runs to a textfile $\\text{sixes_sim.txt}$, with the result of each run on a separate line. Now write another program to read the $\\text{textfile sixes_sim.txt}$ and again determine the proportion of bets won."
      ],
      "metadata": {
        "id": "j8GsiNKwlHfb"
      }
    },
    {
      "cell_type": "code",
      "source": [
        "%%R\n",
        "\n",
        "sixes <- function(n=4){\n",
        "  win = FALSE\n",
        "  for(i in 1:n) {\n",
        "    x <- ceiling(6*runif(1))\n",
        "    if (x == 6){\n",
        "      win = TRUE\n",
        "    }\n",
        "  }\n",
        "  win\n",
        "}\n",
        "\n",
        "sixes_sim <- function(n,N) {\n",
        "  file.create(\"sixes_sim.txt\")\n",
        "  for (i in 1:N) {\n",
        "    write(as.character(sixes(n)), \"sixes_sim.txt\", append = TRUE)\n",
        "  }\n",
        "}\n",
        "\n",
        "#probability\n",
        "prob <- function(x) {\n",
        "  wins <- read.delim(\"sixes_sim.txt\", header=FALSE)\n",
        "  sum(wins)/nrow(wins)\n",
        "}\n",
        "\n",
        "sixes_sim(4,100)\n",
        "prob()"
      ],
      "metadata": {
        "colab": {
          "base_uri": "https://localhost:8080/"
        },
        "id": "MKZtVp0VlSlR",
        "outputId": "0cd958f1-5348-4eed-b372-bf352fdfd08d"
      },
      "execution_count": 21,
      "outputs": [
        {
          "output_type": "stream",
          "name": "stdout",
          "text": [
            "[1] 0.53\n"
          ]
        }
      ]
    },
    {
      "cell_type": "markdown",
      "source": [
        "#3. Probability of Dice Rolls"
      ],
      "metadata": {
        "id": "SaryaFPCl4Yk"
      }
    },
    {
      "cell_type": "markdown",
      "source": [
        "Write code to simulate rolling 6-sided dice. For each roll of these 5 dice, compute and store the the difference between the largest and smallest values. Repeat this process (i.e. roll 5 6-sided die, compute the largest minus smallest values) $n = 1000$ times and plot histogram of the distribution of these differences. Then estimate the probability that the difference between the largest and smallest dice is $4$ or more."
      ],
      "metadata": {
        "id": "0K2TX7LumAGS"
      }
    },
    {
      "cell_type": "code",
      "source": [
        "%%R\n",
        "#Simulate rolling 6-sided dice, store difference between largest and smallest values, repeat 1000 times\n",
        "rolldice <- function(dice) {\n",
        "  ceiling(6*runif(5))\n",
        "}\n",
        "\n",
        "num_rolls <- 1000\n",
        "\n",
        "drolls <- replicate(num_rolls, rolldice(5))\n",
        "\n",
        "differences <- apply(drolls, 2, function(rolls) {\n",
        "  maxval <- max(rolls)\n",
        "  minval <- min(rolls)\n",
        "  return(maxval - minval)\n",
        "})\n",
        "\n",
        "resultz <- data.frame(rolls = 1:num_rolls, diff = differences)\n",
        "#print(resultz)\n",
        "\n",
        "#Plot histogram of results\n",
        "diffplot <- ggplot(data = resultz, aes(x = diff)) +\n",
        "  geom_histogram() + labs(x =\"Difference Between Maximum & Minimum Roll Value\", y=\"Frequency\", title = \"Distribution of Differences of 1000 Dice Rolls\") + theme_light()\n",
        "diffplot"
      ],
      "metadata": {
        "colab": {
          "base_uri": "https://localhost:8080/",
          "height": 515
        },
        "id": "RQjh9btLl9Np",
        "outputId": "705f1fc5-8ce0-4c79-d798-77fb02320242"
      },
      "execution_count": 23,
      "outputs": [
        {
          "output_type": "stream",
          "name": "stdout",
          "text": [
            "`stat_bin()` using `bins = 30`. Pick better value with `binwidth`.\n"
          ]
        },
        {
          "output_type": "display_data",
          "data": {
            "image/png": "[encoded data removed]"
          },
          "metadata": {}
        }
      ]
    },
    {
      "cell_type": "code",
      "source": [
        "%%R\n",
        "#Estimate the probability that the difference between the largest and smallest dice is  4  or more:\n",
        "prob <- sum(resultz[[2]] >= 4)/nrow(resultz)\n",
        "probability <- prob*100\n",
        "print(\"probability percent that the difference between the largest and smallest dice is 4 or more:\")\n",
        "probability"
      ],
      "metadata": {
        "colab": {
          "base_uri": "https://localhost:8080/"
        },
        "id": "iyFraV0PmaQO",
        "outputId": "fc04dea9-7a7a-4d58-a9a1-839b818e5b9c"
      },
      "execution_count": 24,
      "outputs": [
        {
          "output_type": "stream",
          "name": "stdout",
          "text": [
            "[1] \"probability percent that the difference between the largest and smallest dice is 4 or more:\"\n",
            "[1] 65.4\n"
          ]
        }
      ]
    },
    {
      "cell_type": "markdown",
      "source": [
        "#4. Board Game Risk"
      ],
      "metadata": {
        "id": "3QdLkt_dmz_5"
      }
    },
    {
      "cell_type": "markdown",
      "source": [
        "In the board game risk, the attacking army get to roll a die where $a =\n",
        "\\text{min(3, number of attacking armies - 1)}$ and the defending army gets to roll d die where $d = \\text{min(2, number of defending armies)}$. A battle takes place via series of rolls where the attacker and the defender both roll their allotted number of die. Each combatant then orders their die from largest to smallest and the ordered die are compared to each other. The larger number wins with ties always going to the defender. For example is the attacker rolled $(6, 3, 1)$ and the defender rolled $(6, 2)$, the defender would one (defender 6 beats attacker 6) and the attacker would win one (attacker 3 beats defender 2). In this instance they would both lose one army. This process would then be repeated until the attacker runs out of armies or decides to stop attacking."
      ],
      "metadata": {
        "id": "2TaGa33ipCiq"
      }
    },
    {
      "cell_type": "markdown",
      "source": [
        "$(a)$. Define $X = \\text{number of wins for the attacking army}$ (i.e. $0$, $1$, or $2$). In a single turn where the attacker has 3 die and the defender has 2 die, estimate $P(X = 0)$, $P(X = 1)$, and $P(X = 2)$ using Monte Carlo simulation."
      ],
      "metadata": {
        "id": "ZA7yYcT7m_sG"
      }
    },
    {
      "cell_type": "code",
      "source": [
        "%%R\n",
        "n <- 10000 #number of simulations\n",
        "win0 <- 0 #set initial number of wins to 0\n",
        "win1 <- 0\n",
        "win2 <- 0\n",
        "#attacker has 3 die, defender has 2 die\n",
        "for (i in 1:n) {\n",
        "  attack <- sort(ceiling(6*runif(3)), decreasing = TRUE)\n",
        "  defend <- sort(ceiling(6*runif(2)), decreasing = TRUE)\n",
        "\n",
        "  if (attack[1] > defend[1] & attack[2] > defend[2]) {\n",
        "   win2 <- win2 + 1\n",
        "  } else if (attack[1] > defend[1] | attack[2] > defend[2]) {\n",
        "    win1 <- win1 + 1\n",
        "  } else {\n",
        "    win0 <- win0 + 1\n",
        "  }\n",
        "\n",
        "}"
      ],
      "metadata": {
        "id": "idhm_GMqm3H4"
      },
      "execution_count": 25,
      "outputs": []
    },
    {
      "cell_type": "code",
      "source": [
        "%%R\n",
        "prob0 <- (win0/n)*100\n",
        "prob0 #estimate of P(X = 0)"
      ],
      "metadata": {
        "colab": {
          "base_uri": "https://localhost:8080/"
        },
        "id": "gO_8sMh6n-AM",
        "outputId": "1994d832-80e5-47bf-f929-b53fe76ca977"
      },
      "execution_count": 26,
      "outputs": [
        {
          "output_type": "stream",
          "name": "stdout",
          "text": [
            "[1] 29.29\n"
          ]
        }
      ]
    },
    {
      "cell_type": "code",
      "source": [
        "%%R\n",
        "prob1 <- (win1/n)*100\n",
        "prob1 #estimate of P(X = 1)"
      ],
      "metadata": {
        "colab": {
          "base_uri": "https://localhost:8080/"
        },
        "id": "NjVAsyudn_bV",
        "outputId": "8bcfa729-4c5f-44a4-ff65-eba42612a730"
      },
      "execution_count": 27,
      "outputs": [
        {
          "output_type": "stream",
          "name": "stdout",
          "text": [
            "[1] 33.11\n"
          ]
        }
      ]
    },
    {
      "cell_type": "code",
      "source": [
        "%%R\n",
        "prob2 <- (win2/n)*100\n",
        "prob2 #estimate of P(X = 2)"
      ],
      "metadata": {
        "colab": {
          "base_uri": "https://localhost:8080/"
        },
        "id": "sCSsTTyPoDJY",
        "outputId": "173bd7bb-8098-4ef3-855c-821f80a18a89"
      },
      "execution_count": 28,
      "outputs": [
        {
          "output_type": "stream",
          "name": "stdout",
          "text": [
            "[1] 37.6\n"
          ]
        }
      ]
    },
    {
      "cell_type": "markdown",
      "source": [
        "$(b)$. In a battle where both the attacker and the defender have 100 armies, estimate the probability that the attackers win the battle assuming that the attacker will continue to attack until they have only 1 army left (you can’t attack with only 1 army)."
      ],
      "metadata": {
        "id": "1SimBMs2oHsV"
      }
    },
    {
      "cell_type": "code",
      "source": [
        "%%R\n",
        "n <- 10000\n",
        "wins <- 0\n",
        "\n",
        "for (i in 1:n) {\n",
        "  attackarmy <- 100\n",
        "  defendarmy <- 100\n",
        "\n",
        "  while (attackarmy > 1 & defendarmy > 0) {\n",
        "    att_dice <- min(3, attackarmy - 1)\n",
        "    def_dice <- min(2, defendarmy)\n",
        "\n",
        "      attack <- sort(ceiling(6*runif(att_dice)), decreasing = TRUE)\n",
        "        defend <- sort(ceiling(6*runif(def_dice)), decreasing = TRUE)\n",
        "\n",
        "        for (j in 1:min(length(attack), length(defend))) {\n",
        "          if (attack[j] > defend[j]) {\n",
        "            defendarmy <- defendarmy - 1\n",
        "          } else {\n",
        "            attackarmy <- attackarmy -1\n",
        "          }\n",
        "        }\n",
        "  }\n",
        "  if (defendarmy == 0) {\n",
        "    wins <- wins + 1\n",
        "  }\n",
        "}\n",
        "\n",
        "prob <- (wins/n)*100\n",
        "prob #probability that attackers win the battle"
      ],
      "metadata": {
        "colab": {
          "base_uri": "https://localhost:8080/"
        },
        "id": "XfAnK8mGoL14",
        "outputId": "751a714e-ca2d-4a35-d562-21a7889d0405"
      },
      "execution_count": 29,
      "outputs": [
        {
          "output_type": "stream",
          "name": "stdout",
          "text": [
            "[1] 80.68\n"
          ]
        }
      ]
    }
  ]
}