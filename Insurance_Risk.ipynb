{
  "nbformat": 4,
  "nbformat_minor": 0,
  "metadata": {
    "colab": {
      "provenance": [],
      "authorship_tag": "ABX9TyP9RTPamcYsSpDuHUqXZI8s",
      "include_colab_link": true
    },
    "kernelspec": {
      "name": "python3",
      "display_name": "Python 3"
    },
    "language_info": {
      "name": "python"
    }
  },
  "cells": [
    {
      "cell_type": "markdown",
      "metadata": {
        "id": "view-in-github",
        "colab_type": "text"
      },
      "source": [
        "<a href=\"https://colab.research.google.com/github/lwehausen/Simulation/blob/main/Insurance_Risk.ipynb\" target=\"_parent\"><img src=\"https://colab.research.google.com/assets/colab-badge.svg\" alt=\"Open In Colab\"/></a>"
      ]
    },
    {
      "cell_type": "code",
      "execution_count": 1,
      "metadata": {
        "id": "QR9wW22rPD5d"
      },
      "outputs": [],
      "source": [
        "#To run R in Google Colab:\n",
        "%load_ext rpy2.ipython"
      ]
    },
    {
      "cell_type": "code",
      "source": [
        "%%R\n",
        "install.packages(\"cubature\", repos =  \"http://cran.us.r-project.org\")\n",
        "library(cubature)"
      ],
      "metadata": {
        "id": "mQb44pPZPQhB"
      },
      "execution_count": null,
      "outputs": []
    },
    {
      "cell_type": "code",
      "source": [
        "%%R\n",
        "install.packages(\"pracma\", repos =  \"http://cran.us.r-project.org\")\n",
        "library(pracma)"
      ],
      "metadata": {
        "id": "yMfHf9n2PvNU"
      },
      "execution_count": null,
      "outputs": []
    },
    {
      "cell_type": "code",
      "source": [
        "%%R\n",
        "library(dplyr)"
      ],
      "metadata": {
        "id": "WeT7pMM9QDEK"
      },
      "execution_count": null,
      "outputs": []
    },
    {
      "cell_type": "markdown",
      "source": [
        "This is a simplified version of two common problems faced by insurance companies: calculating the probability that they go bust and estimating how much money they will make. Suppose that an insurance company has current assets of $\\$1,000,000$. They have $n = 1,000$ customers who each pay an annual premium of $\\$5,500$, paid at the start of each year. Based on previous experience, it is estimated that the probability of a customer making a claim is $p = 0.1$ per year, independently\n",
        "of previous claims and other customers. The size $X$ of a claim varies, and is\n",
        "believed to have the following density, with $\\alpha = 3$ and $\\beta = 100,000$, \\\\\n",
        "$f(x) = \\begin{cases}\n",
        "    \\frac{\\alpha\\beta^{\\alpha}}{(x + \\beta)^{\\alpha + 1}},& \\text{for} \\: x\\geq 0 \\\\\n",
        "    0, & \\text{for} \\: x < 0.\n",
        "\\end{cases}$ \\\\\n",
        "(Such an $X$ is said to have a Pareto distribution, and in the real world is not\n",
        "an uncommon model for the size of an insurance claim.) \\\\\n",
        "We consider the fortunes of the insurance company over a five-year period.\n",
        "Let $Z(t)$ be the company’s assets at the end of year $t$, so \\\\\n",
        "$Z(0) = 1,000,000,$ \\\\\n",
        "\n",
        "$Z(t) = \\begin{cases} \\max\\{Z(t-1) + \\text{premiums} - \\text{claims}, 0\\} \\: \\text{if} \\: Z(t-1) > 0, \\\\\n",
        "0 \\; \\; \\; \\; \\; \\; \\; \\; \\; \\; \\; \\; \\; \\; \\; \\; \\; \\; \\; \\; \\; \\; \\; \\; \\; \\; \\; \\; \\; \\; \\; \\; \\;\\text{if} \\: Z(t-1) = 0.\n",
        "\\end{cases}$ \\\\\n",
        "Note that if $Z(t)$ falls below $0$ then it stays there. That is, if the company goes bust then it stops trading."
      ],
      "metadata": {
        "id": "DlLG1bPSPugB"
      }
    },
    {
      "cell_type": "markdown",
      "source": [
        "Let $X$ be the size of a typical claim as above. Calculate the cdf $F_X$, $\\mathbb{E}X$, and $\\text{Var} X$."
      ],
      "metadata": {
        "id": "et-3EUYcTLfk"
      }
    },
    {
      "cell_type": "code",
      "source": [
        "%%R\n",
        "#calculate cdf Fx. Plotting the integral of Fx.\n",
        "cdfx <- function(x) {\n",
        "  1-(100000/(x+100000))^3\n",
        "}\n",
        "curve(cdfx,xlim=c(0,200000))"
      ],
      "metadata": {
        "colab": {
          "base_uri": "https://localhost:8080/",
          "height": 497
        },
        "id": "_dnLA7-aTltt",
        "outputId": "fe1af07e-8ad5-4f33-c738-f512737be871"
      },
      "execution_count": 5,
      "outputs": [
        {
          "output_type": "display_data",
          "data": {
            "image/png": "[encoded data removed]"
          },
          "metadata": {}
        }
      ]
    },
    {
      "cell_type": "code",
      "source": [
        "%%R\n",
        "#calculate expected values; remember, x is never less than 0.\n",
        "Ex <- as.numeric(cubintegrate(function(x) x*3*100000^3/(x+100000)^4, 0,Inf))\n",
        "Ex1 <- Ex[1]\n",
        "Ex1"
      ],
      "metadata": {
        "colab": {
          "base_uri": "https://localhost:8080/"
        },
        "id": "jtaEJX2gTqRQ",
        "outputId": "8e547fe9-4826-4963-a5e5-06571b6f0fc4"
      },
      "execution_count": 6,
      "outputs": [
        {
          "output_type": "stream",
          "name": "stdout",
          "text": [
            "[1] 50000\n"
          ]
        }
      ]
    },
    {
      "cell_type": "code",
      "source": [
        "%%R\n",
        "#calculate variance\n",
        "#E[x^2] - E[x]^2\n",
        "Ex_2 <- as.numeric(cubintegrate(function(x) x^2*3*100000^3/(x+100000)^4, 0,Inf))\n",
        "Ex2 <- Ex_2[1]\n",
        "#variance\n",
        "var <- Ex2 - Ex1^2\n",
        "var"
      ],
      "metadata": {
        "colab": {
          "base_uri": "https://localhost:8080/"
        },
        "id": "alC-5p-6Ts5G",
        "outputId": "daeb1f79-f6ba-41e7-c79f-1f6472253f74"
      },
      "execution_count": 7,
      "outputs": [
        {
          "output_type": "stream",
          "name": "stdout",
          "text": [
            "[1] 7.5e+09\n"
          ]
        }
      ]
    },
    {
      "cell_type": "markdown",
      "source": [
        "Using the inversion method, write a subroutine to simulate $X$."
      ],
      "metadata": {
        "id": "TSx5GsNfTyHt"
      }
    },
    {
      "cell_type": "code",
      "source": [
        "%%R\n",
        "#simulated pdf\n",
        "u <- runif(100000)\n",
        "Finv <- function(u,beta = 100000) {(-beta/nthroot((u-1),3)) -beta}\n",
        "y <- Finv(u)\n",
        "\n",
        "hist(y,breaks = seq(0,10000000,10000), xlim = c(0,390000), xlab = \"x\", ylab = \"Frequency\", main = \"Simulated X using inversion method\")"
      ],
      "metadata": {
        "colab": {
          "base_uri": "https://localhost:8080/",
          "height": 497
        },
        "id": "gpmKzwbaTzdo",
        "outputId": "77c20cdb-a99b-4fd8-b9fd-898560cd09dc"
      },
      "execution_count": 8,
      "outputs": [
        {
          "output_type": "display_data",
          "data": {
            "image/png": "[encoded data removed]"
          },
          "metadata": {}
        }
      ]
    },
    {
      "cell_type": "markdown",
      "source": [
        "Use simulation to estimate the pdf of X and compare your estimate to the true pdf. Include a plot."
      ],
      "metadata": {
        "id": "LNLe9aaoT6TY"
      }
    },
    {
      "cell_type": "code",
      "source": [
        "%%R\n",
        "#simulated pdf\n",
        "u <- runif(100000)\n",
        "Finv <- function(u,beta = 100000) {(-beta/nthroot((u-1),3)) -beta}\n",
        "y <- Finv(u)\n",
        "\n",
        "hist(y, breaks = seq(0,10000000,10000), xlim = c(0,400000), xlab = \"x\", ylab = \"f(x)\", main = \"Pareto(3,100000) density\", freq = FALSE)\n",
        "\n",
        "pdf <- function(x) {\n",
        "  (3*100000^3)/(x+100000)^4\n",
        "}\n",
        "curve(pdf, col = \"deeppink\", add = TRUE)"
      ],
      "metadata": {
        "colab": {
          "base_uri": "https://localhost:8080/",
          "height": 497
        },
        "id": "Eg2JAZrfT_P3",
        "outputId": "9b38cab2-5725-4c21-c59d-79ee8f1a152f"
      },
      "execution_count": 10,
      "outputs": [
        {
          "output_type": "display_data",
          "data": {
            "image/png": "[encoded data removed]"
          },
          "metadata": {}
        }
      ]
    },
    {
      "cell_type": "markdown",
      "source": [
        "Simulated and true pdf for insurance risk."
      ],
      "metadata": {
        "id": "mwYYNkAuUJOW"
      }
    },
    {
      "cell_type": "markdown",
      "source": [
        "Write a function to simulate the assets of the company over five years, then use it to plot the assets as a graph."
      ],
      "metadata": {
        "id": "SkyQDuxJUKM0"
      }
    },
    {
      "cell_type": "code",
      "source": [
        "%%R\n",
        "simmy <- function(n) {\n",
        "  un <- runif(n)\n",
        "  y <- Finv(un)\n",
        "}\n",
        "\n",
        "sim2 <- function(n) {\n",
        "  if (n == 0) {\n",
        "    return(c(1000000))\n",
        "  } else {\n",
        "    current <- sim2(n-1)\n",
        "    nclaims <- as.numeric(rbinom(1,1000,0.1))\n",
        "    new <- current[n] + 5500000 - sum(simmy(nclaims))\n",
        "    if (new > 0 && current[n] !=0) {\n",
        "      output <- append(current, new)\n",
        "    } else {\n",
        "      output <- append(current, 0)\n",
        "    }\n",
        "    return(output)\n",
        "  }\n",
        "}\n",
        "\n",
        "plot(0:5, sim2(5), ylim = c(0, 10000000), type = \"o\", xlab = \"Year\", ylab = \"Assets\")"
      ],
      "metadata": {
        "colab": {
          "base_uri": "https://localhost:8080/",
          "height": 497
        },
        "id": "gLr5tTRqUTg-",
        "outputId": "ac720fcd-bc4e-474c-93b6-1b55dbb8d344"
      },
      "execution_count": 11,
      "outputs": [
        {
          "output_type": "display_data",
          "data": {
            "image/png": "[encoded data removed]"
          },
          "metadata": {}
        }
      ]
    },
    {
      "cell_type": "markdown",
      "source": [
        "Using your function, estimate:\n",
        "1. The probability that the company goes bust, and\n",
        "2. The expected assets at the end five years."
      ],
      "metadata": {
        "id": "LlmwvUSJUVaC"
      }
    },
    {
      "cell_type": "code",
      "source": [
        "%%R\n",
        "five <- data.frame(output = numeric())\n",
        "\n",
        "for (i in 1:10000) {\n",
        "  sim_output <- sim2(5)\n",
        "  outval <- sim_output[6]\n",
        "  row <- data.frame(output = outval)\n",
        "  five <- rbind(five, row)\n",
        "}\n",
        "\n",
        "probbankrupt <- sum(five == 0)/NROW(five)\n",
        "probbankrupt"
      ],
      "metadata": {
        "colab": {
          "base_uri": "https://localhost:8080/"
        },
        "id": "nfOKi_T7Uam5",
        "outputId": "9ca9742e-ac3c-44fb-8290-78176c80c0e6"
      },
      "execution_count": 13,
      "outputs": [
        {
          "output_type": "stream",
          "name": "stdout",
          "text": [
            "[1] 0.1675\n"
          ]
        }
      ]
    },
    {
      "cell_type": "code",
      "source": [
        "%%R\n",
        "#expected assets after 5 years\n",
        "exp_assets <- colMeans(five)\n",
        "exp_assets"
      ],
      "metadata": {
        "colab": {
          "base_uri": "https://localhost:8080/"
        },
        "id": "5NAAy6ScUexz",
        "outputId": "b4eaf7b0-80f5-4ca0-b51c-7860f12b286f"
      },
      "execution_count": 14,
      "outputs": [
        {
          "output_type": "stream",
          "name": "stdout",
          "text": [
            " output \n",
            "3383389 \n"
          ]
        }
      ]
    },
    {
      "cell_type": "markdown",
      "source": [
        "Suppose now that the company takes profits at the end of each year. That is, if $Z(t) > 1,000,000$ then $Z(t)− 1,000,000$ is paid out to the shareholders. If $Z(t) ≤ 1,000,000$ then the shareholders get nothing that year."
      ],
      "metadata": {
        "id": "Pb_BVDPtUmt3"
      }
    },
    {
      "cell_type": "markdown",
      "source": [
        "Using this new scheme, estimate\n",
        "1. The probability of going bust.\n",
        "2. The expected assets at the end of five years, and\n",
        "3. The expected total profits taken over the five years."
      ],
      "metadata": {
        "id": "mHrXabB4UvM1"
      }
    },
    {
      "cell_type": "code",
      "source": [
        "%%R\n",
        "sim3 <- function(n) {\n",
        "  if (n==0) {\n",
        "    return(c(1000000, 0))\n",
        "  } else {\n",
        "    current <- sim3(n-1)\n",
        "    nclaims <- as.numeric(rbinom(1,1000,0.1))\n",
        "    new <- current[n] + 5500000 - sum(simmy(nclaims))\n",
        "\n",
        "    if (new>1000000 && current[n] != 0) {\n",
        "      profit <- new - 1000000\n",
        "      new <- 1000000\n",
        "    } else {\n",
        "      profit <- 0\n",
        "    }\n",
        "    output <- append(current, new)\n",
        "    output[2] <- current[2] + profit\n",
        "    return(output)\n",
        "  }\n",
        "}"
      ],
      "metadata": {
        "id": "PRsky_f0Uuur"
      },
      "execution_count": 15,
      "outputs": []
    },
    {
      "cell_type": "code",
      "source": [
        "%%R\n",
        "#probability of going bust\n",
        "nsims <- 10000\n",
        "bust <- 0\n",
        "\n",
        "for (i in 1:nsims) {\n",
        "  sim_output <- sim3(5)\n",
        "  if (any(sim_output < 0)) {\n",
        "    bust <- bust + 1\n",
        "  }\n",
        "}\n",
        "\n",
        "probbankrupt3 <- bust/nsims\n",
        "probbankrupt3"
      ],
      "metadata": {
        "colab": {
          "base_uri": "https://localhost:8080/"
        },
        "id": "hTegGQ-xU1WV",
        "outputId": "8dfb61c5-887b-4b29-e163-e9d806852caa"
      },
      "execution_count": 17,
      "outputs": [
        {
          "output_type": "stream",
          "name": "stdout",
          "text": [
            "[1] 0.3666\n"
          ]
        }
      ]
    },
    {
      "cell_type": "code",
      "source": [
        "%%R\n",
        "#expected assets after five years\n",
        "nsims2 <- 10000\n",
        "totalassets <- 0\n",
        "\n",
        "for (i in 1:nsims2) {\n",
        "  sim_output2 <- sim3(5)\n",
        "  totalassets <- totalassets + sim_output2[6]\n",
        "}\n",
        "\n",
        "expected_assets <- totalassets/nsims2\n",
        "expected_assets"
      ],
      "metadata": {
        "colab": {
          "base_uri": "https://localhost:8080/"
        },
        "id": "rCy6GxtMU57T",
        "outputId": "c23c2fb3-345f-4221-dfd6-1eb90d9504ba"
      },
      "execution_count": 18,
      "outputs": [
        {
          "output_type": "stream",
          "name": "stdout",
          "text": [
            "[1] 620057.1\n"
          ]
        }
      ]
    },
    {
      "cell_type": "code",
      "source": [
        "%%R\n",
        "#expected total profits after five years\n",
        "nsims3 <- 10000\n",
        "totalprofits <- 0\n",
        "\n",
        "for (i in 1:nsims3) {\n",
        "  sim_output3 <- sim3(5)\n",
        "  totalprofits <- totalprofits + sim_output3[2]\n",
        "}\n",
        "\n",
        "expected_profits <- totalprofits/nsims3\n",
        "expected_profits"
      ],
      "metadata": {
        "colab": {
          "base_uri": "https://localhost:8080/"
        },
        "id": "ZI24cf9HU-vY",
        "outputId": "1fc61bcf-19a1-42a7-bcda-3db96e804ce3"
      },
      "execution_count": 19,
      "outputs": [
        {
          "output_type": "stream",
          "name": "stdout",
          "text": [
            "[1] 2911195\n"
          ]
        }
      ]
    },
    {
      "cell_type": "markdown",
      "source": [
        "The company has a higher chance, more than double, of going bust. The expected profits are nearly the same amount as the previous expected assets. The now expected assets are significantly less than before but this is not surprising since money is now split between assets and profits."
      ],
      "metadata": {
        "id": "zhPq09_JVEY1"
      }
    }
  ]
}