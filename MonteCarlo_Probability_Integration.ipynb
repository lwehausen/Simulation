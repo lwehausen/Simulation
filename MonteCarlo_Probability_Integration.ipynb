{
  "nbformat": 4,
  "nbformat_minor": 0,
  "metadata": {
    "colab": {
      "provenance": [],
      "authorship_tag": "ABX9TyMl/mme3B40aN+005MpgvmJ",
      "include_colab_link": true
    },
    "kernelspec": {
      "name": "python3",
      "display_name": "Python 3"
    },
    "language_info": {
      "name": "python"
    }
  },
  "cells": [
    {
      "cell_type": "markdown",
      "metadata": {
        "id": "view-in-github",
        "colab_type": "text"
      },
      "source": [
        "<a href=\"https://colab.research.google.com/github/lwehausen/Simulation/blob/main/MonteCarlo_Probability_Integration.ipynb\" target=\"_parent\"><img src=\"https://colab.research.google.com/assets/colab-badge.svg\" alt=\"Open In Colab\"/></a>"
      ]
    },
    {
      "cell_type": "code",
      "execution_count": 7,
      "metadata": {
        "colab": {
          "base_uri": "https://localhost:8080/"
        },
        "id": "YdXfVA28OEAq",
        "outputId": "64e8e89e-e3e4-42fb-9cb9-715a342da18c"
      },
      "outputs": [
        {
          "output_type": "stream",
          "name": "stdout",
          "text": [
            "The rpy2.ipython extension is already loaded. To reload it, use:\n",
            "  %reload_ext rpy2.ipython\n"
          ]
        }
      ],
      "source": [
        "#To run R in Google Colab:\n",
        "%load_ext rpy2.ipython"
      ]
    },
    {
      "cell_type": "markdown",
      "source": [
        "#Monte Carlo Probability & Integration"
      ],
      "metadata": {
        "id": "8m8iwwvkPk3v"
      }
    },
    {
      "cell_type": "code",
      "source": [
        "%%R\n",
        "install.packages(\"spuRs\", repos =  \"http://cran.us.r-project.org\")\n",
        "install.packages(\"mvtnorm\", repos =  \"http://cran.us.r-project.org\")"
      ],
      "metadata": {
        "id": "m7jsyJ7pPULi"
      },
      "execution_count": null,
      "outputs": []
    },
    {
      "cell_type": "code",
      "source": [
        "%%R\n",
        "library(ggplot2)\n",
        "library(dplyr)\n",
        "library(mvtnorm)"
      ],
      "metadata": {
        "id": "dpndXenIPaQU"
      },
      "execution_count": 10,
      "outputs": []
    },
    {
      "cell_type": "markdown",
      "source": [
        "1. Using Monte Carlo find the following probability: $P(−1 ≤ X_1 ≤ 1 \\cap −1 ≤ X_2 ≤ 1)$ where $(X_1, X_2)$ is bivariate normal with $E[X_1] = E[X_2] = 0$, $Var[X_1] = Var[X_2] = 1$, and $cor(X_1,X_2) = 0.5$."
      ],
      "metadata": {
        "id": "wjH0ORuaONCe"
      }
    },
    {
      "cell_type": "code",
      "source": [
        "%%R\n",
        "mean <- c(0,0)\n",
        "var <- matrix(c(1,0.5,0.5,1), nrow=2)\n",
        "lb <- c(-1,-1)\n",
        "ub <- c(1,1)\n",
        "n <- 100000\n",
        "\n",
        "#random samples from bivariate normal distribution\n",
        "samps <- rmvnorm(n, mean=mean, sigma=var)\n",
        "#pull samples in desired range [-1,1]\n",
        "range <- (samps[,1] >= lb[1] & samps[,1] <= ub[1]) & (samps[,2]>=lb[2] & samps[,2] <=ub[2])\n",
        "#probability\n",
        "prob <- sum(range)/n\n",
        "cat(\"Probability:\",prob)"
      ],
      "metadata": {
        "colab": {
          "base_uri": "https://localhost:8080/"
        },
        "id": "pza52HwgO6oH",
        "outputId": "d0f22927-8266-424a-8e84-77494c49aa77"
      },
      "execution_count": 6,
      "outputs": [
        {
          "output_type": "stream",
          "name": "stdout",
          "text": [
            "Probability: 0.49418"
          ]
        }
      ]
    },
    {
      "cell_type": "markdown",
      "source": [
        "2. A Dagum distribution has the following CDF:\n",
        "$F(x, a, b, p) = (1 + (\\frac{x}{b})^{−a})^{−p}$\n",
        "\n",
        "$(a)$. Write a function to randomly simulate values from a\n",
        "Dagum distribution using the inversion method."
      ],
      "metadata": {
        "id": "sELxjkqTjQEM"
      }
    },
    {
      "cell_type": "code",
      "source": [
        "%%R\n",
        "#simulated pdf\n",
        "u <- runif(10000000)\n",
        "inv_dag <- function(u,a,b,p) {\n",
        "  b*(1/((1/u)^(1/p) -1))^(1/a)\n",
        "}"
      ],
      "metadata": {
        "id": "rNEXqudnj2Ly"
      },
      "execution_count": 15,
      "outputs": []
    },
    {
      "cell_type": "markdown",
      "source": [
        "$(b)$. Using Monte Carlo simulation estimate the mean, median,\n",
        "and variance of the Dagum distribution when $a = 3$, $b = 2$, and $p = 2$."
      ],
      "metadata": {
        "id": "aYxRSRb2j6nV"
      }
    },
    {
      "cell_type": "code",
      "source": [
        "%%R\n",
        "a <- 3\n",
        "b <- 2\n",
        "p <- 2\n",
        "\n",
        "y <- inv_dag(u,a,b,p)\n",
        "\n",
        "mean(y)\n",
        "median(y)\n",
        "var(y)"
      ],
      "metadata": {
        "colab": {
          "base_uri": "https://localhost:8080/"
        },
        "id": "s-hWMP5tkBuS",
        "outputId": "cbab1709-eaf7-492f-9090-a55232f8566c"
      },
      "execution_count": 16,
      "outputs": [
        {
          "output_type": "stream",
          "name": "stdout",
          "text": [
            "[1] 5.958793\n"
          ]
        }
      ]
    },
    {
      "cell_type": "markdown",
      "source": [
        "3. Using Monte Carlo integration evaluate the following integral: $\\int_{0}^3 e^{\\frac{-x}{3}}x^4dx$."
      ],
      "metadata": {
        "id": "CAB0XA9RPy93"
      }
    },
    {
      "cell_type": "code",
      "source": [
        "%%R\n",
        "n <- 1000000\n",
        "x <- runif(n,0,3)\n",
        "C <- 3\n",
        "C*mean(exp(-x/3)*(x^4))"
      ],
      "metadata": {
        "colab": {
          "base_uri": "https://localhost:8080/"
        },
        "id": "YT73W5YofoF6",
        "outputId": "a85ad2c5-466c-488e-9971-9c37046990dd"
      },
      "execution_count": 11,
      "outputs": [
        {
          "output_type": "stream",
          "name": "stdout",
          "text": [
            "[1] 21.38267\n"
          ]
        }
      ]
    },
    {
      "cell_type": "markdown",
      "source": [
        "4. Find the value of the following integral using Monte Carlo\n",
        "integration: $\\int_{0}^10 .51e^{-2x}|\\sin(\\frac{x}{2}) - \\cos(\\frac{x}{2})|dx$"
      ],
      "metadata": {
        "id": "6NJ8v_4Xg5PW"
      }
    },
    {
      "cell_type": "code",
      "source": [
        "%%R\n",
        "#Create the function then evaluate the integral via Monte Carlo method:\n",
        "n <- 10000000\n",
        "x <- runif(n,0,10)\n",
        "C <- 10\n",
        "C*mean(.51*exp(-2*x)*abs(sin(x/2) - cos(x/2)))\n",
        "#Actual integral value is 0.187334 so this approximation is pretty good."
      ],
      "metadata": {
        "colab": {
          "base_uri": "https://localhost:8080/"
        },
        "id": "2eBlbkashXwB",
        "outputId": "7ebeeea3-db1c-4642-b01c-02d727d976fc"
      },
      "execution_count": 13,
      "outputs": [
        {
          "output_type": "stream",
          "name": "stdout",
          "text": [
            "[1] 0.1870505\n"
          ]
        }
      ]
    },
    {
      "cell_type": "markdown",
      "source": [
        "5. Using Monte Carlo integration, evaluate the value of the following integral: $\\int_{1}^2 \\frac{1}{\\sqrt2\\pi} e^{\\frac{-1}{2}(x-3)^2}dx$"
      ],
      "metadata": {
        "id": "bmmASrKciJa3"
      }
    },
    {
      "cell_type": "code",
      "source": [
        "%%R\n",
        "#Create the function then evaluate the integral via Monte Carlo method:\n",
        "n <- 10000000\n",
        "x <- runif(n,1,2)\n",
        "C <- 1\n",
        "C*mean((1/sqrt(2*pi))*exp((-1/2)*(x-3)^2))\n",
        "#Actual integral value is 0.1359051 so this approximation is pretty good (to me)."
      ],
      "metadata": {
        "colab": {
          "base_uri": "https://localhost:8080/"
        },
        "id": "fqLs4T_JiGa_",
        "outputId": "654452fd-62ed-4224-bc0c-564fe688b847"
      },
      "execution_count": 14,
      "outputs": [
        {
          "output_type": "stream",
          "name": "stdout",
          "text": [
            "[1] 0.1359036\n"
          ]
        }
      ]
    }
  ]
}