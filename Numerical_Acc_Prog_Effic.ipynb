{
  "nbformat": 4,
  "nbformat_minor": 0,
  "metadata": {
    "colab": {
      "provenance": [],
      "authorship_tag": "ABX9TyPXWOX1Qgk913Jn5sL9tBf5",
      "include_colab_link": true
    },
    "kernelspec": {
      "name": "python3",
      "display_name": "Python 3"
    },
    "language_info": {
      "name": "python"
    }
  },
  "cells": [
    {
      "cell_type": "markdown",
      "metadata": {
        "id": "view-in-github",
        "colab_type": "text"
      },
      "source": [
        "<a href=\"https://colab.research.google.com/github/lwehausen/Simulation/blob/main/Numerical_Acc_Prog_Effic.ipynb\" target=\"_parent\"><img src=\"https://colab.research.google.com/assets/colab-badge.svg\" alt=\"Open In Colab\"/></a>"
      ]
    },
    {
      "cell_type": "code",
      "source": [
        "#To run R in Google Colab:\n",
        "%load_ext rpy2.ipython"
      ],
      "metadata": {
        "id": "_C6H_6k0x0Fb"
      },
      "execution_count": 1,
      "outputs": []
    },
    {
      "cell_type": "code",
      "source": [
        "%%R\n",
        "library(ggplot2)"
      ],
      "metadata": {
        "id": "LEkzWIvwJsvV"
      },
      "execution_count": 15,
      "outputs": []
    },
    {
      "cell_type": "markdown",
      "source": [
        "#Numerical Accuracy and Program Efficiency"
      ],
      "metadata": {
        "id": "ELCjeIEKxPFN"
      }
    },
    {
      "cell_type": "markdown",
      "source": [
        "1. Suppose $x$ and $y$ can be represented without error in double precision. Can the same be said for $x^2$ and $y^2$? Which would be more accurate, $x^2 − y^2$ or $(x − y)(x + y)$?"
      ],
      "metadata": {
        "id": "yDaA48lYxScU"
      }
    },
    {
      "cell_type": "code",
      "execution_count": 2,
      "metadata": {
        "colab": {
          "base_uri": "https://localhost:8080/"
        },
        "id": "rLdR2qNjxBWj",
        "outputId": "69826d38-ff04-4c80-b3d8-34897e60d539"
      },
      "outputs": [
        {
          "output_type": "stream",
          "name": "stdout",
          "text": [
            "[1] 6400080000\n"
          ]
        }
      ],
      "source": [
        "%%R\n",
        "x <- 80000.5\n",
        "x^2 #The value of x^2 is rounded to 6400080000"
      ]
    },
    {
      "cell_type": "code",
      "source": [
        "%%R\n",
        "y <- 80000.4\n",
        "y^2 #The value of y^2 is rounded to 6400064000"
      ],
      "metadata": {
        "colab": {
          "base_uri": "https://localhost:8080/"
        },
        "id": "yV2PRwVOx9d7",
        "outputId": "c3dd6426-0b35-454e-c881-55679fd58f30"
      },
      "execution_count": 3,
      "outputs": [
        {
          "output_type": "stream",
          "name": "stdout",
          "text": [
            "[1] 6400064000\n"
          ]
        }
      ]
    },
    {
      "cell_type": "markdown",
      "source": [
        "No, the same cannot be said for $x^2$ and $y^2$. Let $x = 80000.5$ and $y = 80000.4$. The exact value of $x^2$ is $6400080000.25$ and exact value of $y^2$ is $6400064000.16$. These values are too large to be stored as doubles."
      ],
      "metadata": {
        "id": "PNrlWZeryBV1"
      }
    },
    {
      "cell_type": "markdown",
      "source": [
        "If we calculate $x^2 - y^2$ exactly, it is $16000.0900011$. Since $x^2$ and $y^2$ are rounded, however, we expect a rounded difference as well. Using the values for $x^2$ and $y^2$, we take their difference:"
      ],
      "metadata": {
        "id": "V6njX3vZyS0D"
      }
    },
    {
      "cell_type": "code",
      "source": [
        "%%R\n",
        "6400080000 - 6400064000\n",
        "#This is rounded to 16000"
      ],
      "metadata": {
        "colab": {
          "base_uri": "https://localhost:8080/"
        },
        "id": "R6Hye_kByPwg",
        "outputId": "b6d839b2-110c-4aad-acf5-4bef8c307c9b"
      },
      "execution_count": 4,
      "outputs": [
        {
          "output_type": "stream",
          "name": "stdout",
          "text": [
            "[1] 16000\n"
          ]
        }
      ]
    },
    {
      "cell_type": "markdown",
      "source": [
        "Since $x$ & $y$ are approximations, their difference is an approximation as well. Then $x^2 - y^2$ is not accurate for large values."
      ],
      "metadata": {
        "id": "i3-31WESydmc"
      }
    },
    {
      "cell_type": "markdown",
      "source": [
        "If $x$ & $y$ are exact, then their difference is also expressed exactly. If two differences are exact $[(x-y)(x+y)]$, then their product is more likely to be exact as well, which is why $(x-y)(x+y)$ is more accurate than $x^2 - y^2$."
      ],
      "metadata": {
        "id": "lv92U5IiylIN"
      }
    },
    {
      "cell_type": "code",
      "source": [
        "%%R\n",
        "(x-y)*(x+y)"
      ],
      "metadata": {
        "colab": {
          "base_uri": "https://localhost:8080/"
        },
        "id": "4HjIGH15y0cq",
        "outputId": "2cf9e58b-7ef9-440e-f9de-8cb61f761dd1"
      },
      "execution_count": 5,
      "outputs": [
        {
          "output_type": "stream",
          "name": "stdout",
          "text": [
            "[1] 16000.09\n"
          ]
        }
      ]
    },
    {
      "cell_type": "markdown",
      "source": [
        "2. To calculate $\\log(x)$ we use the expansion\n",
        "$\\log(1 + x) = x − \\frac{x^2}{2} + \\frac{x^3}{3} − \\frac{x^4}{4} + · · · $. \\\\\n",
        "Truncating to $n$ terms, the error is no greater in magnitude than the last term in the sum. How many terms in the expansion are required to calculate $\\log(1.5)$ with an error of at most $10^{−16}$? How many terms are required to calculate $\\log(2)$ with an error of at most $10^{-16}$? \\\\\n",
        "Using the fact that $\\log(2) = 2\\log(\\sqrt2)$, suggest a better way of calculating $\\log(2)$."
      ],
      "metadata": {
        "id": "oDIX2ttBElFq"
      }
    },
    {
      "cell_type": "code",
      "source": [
        "%%R\n",
        "#calculating log(1+x) with Taylor expansion for log(1.5)\n",
        "eps <- 1e-16\n",
        "x <- 0.5\n",
        "n <- 0\n",
        "log1x <- 0\n",
        "while (n==0 || abs(last.term) > eps) {\n",
        "  n <- n + 1\n",
        "  last.term <- (-1)^(n+1)*x^n/n\n",
        "  log1x <- log1x + last.term\n",
        "}\n",
        "\n",
        "log1x\n",
        "last.term\n",
        "n"
      ],
      "metadata": {
        "colab": {
          "base_uri": "https://localhost:8080/"
        },
        "id": "FewPB4S1F5rL",
        "outputId": "2394d4ad-9fa5-49b4-ab62-af59e067963d"
      },
      "execution_count": 6,
      "outputs": [
        {
          "output_type": "stream",
          "name": "stdout",
          "text": [
            "[1] 48\n"
          ]
        }
      ]
    },
    {
      "cell_type": "markdown",
      "source": [
        "48 terms are required to evaluate $\\log(1.5)$ with an error of at most $10^{-16}$. We obtain $\\log(1.5)=0.4054651$ and $\\text{error} = -7.401487e^{-17}$."
      ],
      "metadata": {
        "id": "nkHi81OtGD7c"
      }
    },
    {
      "cell_type": "markdown",
      "source": [
        "The previous method does not work for calculating $\\log(2)$. Instead, we can evaluate $\\sqrt2 = 1.414214$ and then let $x = 0.414214$. After calculating $\\log(1+x)$, we can multiply our result $\\log(1x)$ by $2$ to obtain a calculation of $\\log(2)$."
      ],
      "metadata": {
        "id": "H2wMcSapGPAC"
      }
    },
    {
      "cell_type": "code",
      "source": [
        "%%R\n",
        "eps <- 1e-16\n",
        "x <- 0.414214\n",
        "n <- 0\n",
        "log1x <- 0\n",
        "while (n==0 || abs(2*last.term) > eps) {\n",
        "  n <- n + 1\n",
        "  last.term <- (-1)^(n+1)*x^n/n\n",
        "  log1x <- log1x + last.term\n",
        "}\n",
        "\n",
        "2*log1x\n",
        "2*last.term\n",
        "n"
      ],
      "metadata": {
        "colab": {
          "base_uri": "https://localhost:8080/"
        },
        "id": "XhoQX_JJGlpg",
        "outputId": "7bcd42bb-59ed-4a64-8948-7ba624c6be7e"
      },
      "execution_count": 7,
      "outputs": [
        {
          "output_type": "stream",
          "name": "stdout",
          "text": [
            "[1] 39\n"
          ]
        }
      ]
    },
    {
      "cell_type": "markdown",
      "source": [
        "39 terms are required to evaluate $\\log(2)$ with an error of at most $10^{-16}$. We obtain $\\log(2)= 0.6931478$ with an $\\text{error} = 6.049668e^{-17}$."
      ],
      "metadata": {
        "id": "jdbSXVD7Go7I"
      }
    },
    {
      "cell_type": "markdown",
      "source": [
        "3.  The sample variance of a set of observations $x_1, . . ., x_n$ is given by $S^2 = \\sum_{i = 1}^n (x_i−\\bar{x})^2/(n-1) = \\sum_{i = 1}^n ({x_i}^2−n\\bar{x^2})/(n-1)$ where $\\bar{x}=\\sum_{i = 1}^n x_i/n$ is the sample mean. \\\\\n",
        "Show that the second formula is more efficient (requires fewer operations) but can suffer from catastrophic cancellation. Demonstrate catastrophic cancellation with an example sample of size $n = 2$."
      ],
      "metadata": {
        "id": "AH27ZrpDG-bM"
      }
    },
    {
      "cell_type": "code",
      "source": [
        "%%R\n",
        "x <- rnorm(100000000)\n",
        "n= length(x)\n",
        "xbar <- sum(x)/n\n",
        "#first formula\n",
        "start1 <- Sys.time()\n",
        "f1 <- sum(((x-xbar)^2)/(n-1))\n",
        "f1\n",
        "end1 <- Sys.time()\n",
        "diff1 <- end1 - start1\n",
        "diff1"
      ],
      "metadata": {
        "colab": {
          "base_uri": "https://localhost:8080/"
        },
        "id": "vADstrwIIgS_",
        "outputId": "1cfec40f-7d6c-4285-8c85-eb21cfe0fd99"
      },
      "execution_count": 8,
      "outputs": [
        {
          "output_type": "stream",
          "name": "stdout",
          "text": [
            "Time difference of 1.021207 secs\n"
          ]
        }
      ]
    },
    {
      "cell_type": "code",
      "source": [
        "%%R\n",
        "#second formula\n",
        "start2 <- Sys.time()\n",
        "f2 <- (sum(x^2) - n*xbar^2)/(n-1)\n",
        "f2\n",
        "end2 <- Sys.time()\n",
        "diff2 <- end2 - start2\n",
        "diff2"
      ],
      "metadata": {
        "colab": {
          "base_uri": "https://localhost:8080/"
        },
        "id": "dzvppzmJInuu",
        "outputId": "a0eb284c-4968-4f63-a859-72cc3b6c356e"
      },
      "execution_count": 9,
      "outputs": [
        {
          "output_type": "stream",
          "name": "stdout",
          "text": [
            "Time difference of 0.6958172 secs\n"
          ]
        }
      ]
    },
    {
      "cell_type": "markdown",
      "source": [
        "We see that the second formula is indeed more efficient."
      ],
      "metadata": {
        "id": "nmhhVI1tIsGM"
      }
    },
    {
      "cell_type": "code",
      "source": [
        "%%R\n",
        "#Catastrophic cancellation of second formula with n = 2\n",
        "y <- c((5*10^1000), (4*10^1000))\n",
        "n= length(y)\n",
        "ybar <- sum(y)/n\n",
        "\n",
        "#Show that addition/power operation on these large numbers is non-calculable with double precision\n",
        "y^2"
      ],
      "metadata": {
        "colab": {
          "base_uri": "https://localhost:8080/"
        },
        "id": "W2p2Sy4-IvR0",
        "outputId": "6a51a6f8-5f3e-4f4e-a69d-29469a37d278"
      },
      "execution_count": 11,
      "outputs": [
        {
          "output_type": "stream",
          "name": "stdout",
          "text": [
            "[1] Inf Inf\n"
          ]
        }
      ]
    },
    {
      "cell_type": "code",
      "source": [
        "%%R\n",
        "ybar #since ybar = Inf, ybar^2 also = Inf"
      ],
      "metadata": {
        "colab": {
          "base_uri": "https://localhost:8080/"
        },
        "id": "1JXAv2CMI7Qo",
        "outputId": "6078b45d-369c-435a-b35b-b19723ef3db4"
      },
      "execution_count": 12,
      "outputs": [
        {
          "output_type": "stream",
          "name": "stdout",
          "text": [
            "[1] Inf\n"
          ]
        }
      ]
    },
    {
      "cell_type": "code",
      "source": [
        "%%R\n",
        "#Exemplify catastrophic cancellation. We should expect no result.\n",
        "f3 <- (sum(y^2) - n*ybar^2)/(n-1)\n",
        "f3"
      ],
      "metadata": {
        "colab": {
          "base_uri": "https://localhost:8080/"
        },
        "id": "r8omreo0I-z2",
        "outputId": "59d7ec39-b87e-43b2-f0d2-15c0d8415a59"
      },
      "execution_count": 13,
      "outputs": [
        {
          "output_type": "stream",
          "name": "stdout",
          "text": [
            "[1] NaN\n"
          ]
        }
      ]
    },
    {
      "cell_type": "markdown",
      "source": [
        "Since the number of digits is greater than the mantissa, double precision cannot store the number exactly, but approximately. Large numbers squared will equal infinity, despite there being an actual number. We see here that $y^2$, $\\bar{y}$, and $\\bar{y}^2$ all equal $\\text{infinity}$, so we obtain no result."
      ],
      "metadata": {
        "id": "_m9utP6TIyzl"
      }
    },
    {
      "cell_type": "markdown",
      "source": [
        "4. (Perform each operation a large number of times and store the time it takes to run each. Then repeat that process a large number of times and compare the distributions of each.) Use the system.time function to compare the relative time that it takes to perform addition, multiplication, powers, and other simple operations."
      ],
      "metadata": {
        "id": "jKRAD92YJSyK"
      }
    },
    {
      "cell_type": "code",
      "source": [
        "%%R\n",
        "#addition\n",
        "add_df <- data.frame()\n",
        "for(i in 1:100) {\n",
        "  add_df <- rbind(add_df, t(data.frame(i=as.vector(system.time(for(j in 1:10000000) 2038 + 8570)))))\n",
        "}\n",
        "rownames(add_df) <- (1:100)\n",
        "\n",
        "ggplot(data = add_df, aes(x = V3)) +\n",
        "  geom_histogram(binwidth = .001) + labs(x =\"Time (s)\", y=\"Frequency\") + theme_light()"
      ],
      "metadata": {
        "colab": {
          "base_uri": "https://localhost:8080/",
          "height": 497
        },
        "id": "iIlTvDsTKCKJ",
        "outputId": "6e76f7d1-8f5c-4374-bed9-b3d950df21ed"
      },
      "execution_count": 17,
      "outputs": [
        {
          "output_type": "display_data",
          "data": {
            "image/png": "[encoded data removed]"
          },
          "metadata": {}
        }
      ]
    },
    {
      "cell_type": "code",
      "source": [
        "%%R\n",
        "#multiplication\n",
        "mult_df <- data.frame()\n",
        "for(i in 1:100) {\n",
        "  mult_df <- rbind(mult_df, t(data.frame(i=as.vector(system.time(for(j in 1:10000000) 208*657)))))\n",
        "}\n",
        "rownames(mult_df) <- (1:100)\n",
        "\n",
        "ggplot(data = mult_df, aes(x = V3)) +\n",
        "  geom_histogram(binwidth = .001) + labs(x =\"Time (s)\", y=\"Frequency\") + theme_light()"
      ],
      "metadata": {
        "colab": {
          "base_uri": "https://localhost:8080/",
          "height": 497
        },
        "id": "t05P-_8uKGi3",
        "outputId": "07274fef-732c-46b2-fd55-7b3e3db725ff"
      },
      "execution_count": 18,
      "outputs": [
        {
          "output_type": "display_data",
          "data": {
            "image/png": "[encoded data removed]"
          },
          "metadata": {}
        }
      ]
    },
    {
      "cell_type": "code",
      "source": [
        "%%R\n",
        "#powers\n",
        "pow_df <- data.frame()\n",
        "for(i in 1:100) {\n",
        "  pow_df <- rbind(pow_df, t(data.frame(i=as.vector(system.time(for(j in 1:10000000) 384^0.5)))))\n",
        "}\n",
        "rownames(pow_df) <- (1:100)\n",
        "\n",
        "ggplot(data = pow_df, aes(x = V3)) +\n",
        "  geom_histogram(binwidth = .001) + labs(x =\"Time (s)\", y=\"Frequency\") + theme_light()"
      ],
      "metadata": {
        "colab": {
          "base_uri": "https://localhost:8080/",
          "height": 497
        },
        "id": "Zk7hVyypKK1V",
        "outputId": "da2ba977-f514-4045-d051-f5e85ee1be61"
      },
      "execution_count": 19,
      "outputs": [
        {
          "output_type": "display_data",
          "data": {
            "image/png": "[encoded data removed]"
          },
          "metadata": {}
        }
      ]
    },
    {
      "cell_type": "code",
      "source": [
        "%%R\n",
        "#log\n",
        "log_df <- data.frame()\n",
        "for(i in 1:100) {\n",
        "  log_df <- rbind(log_df, t(data.frame(i=as.vector(system.time(for(j in 1:10000000) log(5632))))))\n",
        "}\n",
        "rownames(log_df) <- (1:100)\n",
        "\n",
        "ggplot(data = log_df, aes(x = V3)) +\n",
        "  geom_histogram(binwidth = .001) + labs(x =\"Time (s)\", y=\"Frequency\") + theme_light()"
      ],
      "metadata": {
        "colab": {
          "base_uri": "https://localhost:8080/",
          "height": 497
        },
        "id": "uK-z9AU_KOPC",
        "outputId": "444f324e-ddc3-401e-de78-250d0ab8e2f7"
      },
      "execution_count": 20,
      "outputs": [
        {
          "output_type": "display_data",
          "data": {
            "image/png": "[encoded data removed]"
          },
          "metadata": {}
        }
      ]
    },
    {
      "cell_type": "markdown",
      "source": [
        "The distributions are slightly skewed right, particularly the power histogram. There are a few upper outliers, especially in the log histogram. The time it takes for addition, multiplication, and powers are relatively the same, ranging from $[0.120,0.127]$ seconds. The logarithm takes approximately twice the time as compared to the other operations. Please note: the distributions change when the file is knitted so they may not all appear to be \"skewed right,\" as they do now when answering this question."
      ],
      "metadata": {
        "id": "U72_4aUsJpSS"
      }
    }
  ]
}